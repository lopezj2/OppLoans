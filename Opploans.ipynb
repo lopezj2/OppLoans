{
 "cells": [
  {
   "cell_type": "markdown",
   "metadata": {},
   "source": [
    "### Table of Contents\n",
    "\n",
    "* [Data Preprocessing](#preprocessing)\n",
    "    * [Coding the Target Variable](#section_1_1)\n",
    "    * [Dropping Empty and Sparse Features](#section_1_2)\n",
    "    * [Transforming & Inspecting Categorical Features](#section_1_3)\n",
    "        * [Dropping Categorical Variables](#section_1_3_1)\n",
    "    * [Transforming & Inspecting Numerical Features](#section_1_4)\n",
    "        * [Variables that may cause leakage](#section_1_4_1)\n",
    "        * ['Months Since' Variables](#section_1_4_2)\n",
    "        * [ASIDE - consistent amount of missing values?](#section_1_4_3)\n",
    "        * [Numerical Indicators and Codes](#section_1_4_4)\n",
    "    * [Transforming & Inspecting Date Features](#section_1_5)\n",
    "    * [Missing Values](#section_1_6)\n",
    "        * [Missing Values -> 0](#section_1_6_1)\n",
    "        * [Missing Vales -> mode](#section_1_6_2)\n",
    "    * [Encoding Categorical Variables](#section_1_7)\n",
    "* [Modeling](#modeling)\n",
    "    * [Train/Test Splits](#section_2_1)\n",
    "    * [Feature Selection & Model Selection using Feature Importance](#section_2_2)\n",
    "    * [Model Evaluation](#section_2_3)\n",
    "* [Summary](#summary)"
   ]
  },
  {
   "cell_type": "markdown",
   "metadata": {},
   "source": [
    "# Importing Modules and Reading Data"
   ]
  },
  {
   "cell_type": "code",
   "execution_count": null,
   "metadata": {},
   "outputs": [],
   "source": [
    "import pandas as pd\n",
    "import numpy as np\n",
    "import datetime as dt\n",
    "import matplotlib.pyplot as plt\n",
    "import seaborn as sns\n",
    "from matplotlib import rcParams\n",
    "from scipy import stats"
   ]
  },
  {
   "cell_type": "code",
   "execution_count": 139,
   "metadata": {},
   "outputs": [],
   "source": [
    "datecols = ['issue_d','earliest_cr_line','last_pymnt_d','last_credit_pull_d', 'next_pymnt_d', \n",
    "            'debt_settlement_flag_date', 'settlement_date']\n",
    "df = pd.read_csv('Lending_Club_v2.csv', parse_dates=datecols, low_memory=False)"
   ]
  },
  {
   "cell_type": "markdown",
   "metadata": {},
   "source": [
    "# Data Preprocessing <a class=\"anchor\" id=\"preprocessing\"></a>"
   ]
  },
  {
   "cell_type": "markdown",
   "metadata": {},
   "source": [
    "## Coding the Target Variable <a class=\"anchor\" id=\"section_1_1\"></a>"
   ]
  },
  {
   "cell_type": "code",
   "execution_count": 143,
   "metadata": {},
   "outputs": [],
   "source": [
    "bad_indicators = [\"Charged Off \",\n",
    "                  \"Charged Off\",\n",
    "                  \"Default\",\n",
    "                  \"Does not meet the credit policy. Status:Charged Off\",\n",
    "                  \"Does not meet the credit policy. Status:Fully Paid\",\n",
    "                  \"Default Receiver\",\n",
    "                  \"Late (16-30 days)\",\n",
    "                  \"Late (31-120 days)\"]\n",
    "df['target'] = df['loan_status'].isin(bad_indicators).astype(int)"
   ]
  },
  {
   "cell_type": "code",
   "execution_count": 213,
   "metadata": {},
   "outputs": [
    {
     "name": "stdout",
     "output_type": "stream",
     "text": [
      "------------ COUNTS OF EACH CLASS ------------\n",
      "0    34120\n",
      "1     8419\n",
      "Name: target, dtype: int64\n",
      "------------ PERCENTAGES OF EACH CLASS ------------\n",
      "0    0.802087\n",
      "1    0.197913\n",
      "Name: target, dtype: float64\n"
     ]
    }
   ],
   "source": [
    "print('------------ COUNTS OF EACH CLASS ------------')\n",
    "print(pd.value_counts(df.target))\n",
    "print('------------ PERCENTAGES OF EACH CLASS ------------')\n",
    "print(pd.value_counts(df.target)/len(df))"
   ]
  },
  {
   "cell_type": "markdown",
   "metadata": {},
   "source": [
    "For the record, there are 42539 rows in total. This will help determine how many NaNs there are in any given column."
   ]
  },
  {
   "cell_type": "markdown",
   "metadata": {},
   "source": [
    "## Dropping Empty and Sparse Features <a class=\"anchor\" id=\"section_1_2\"></a>"
   ]
  },
  {
   "cell_type": "code",
   "execution_count": 140,
   "metadata": {},
   "outputs": [],
   "source": [
    "#First, drop all columns that have all NaN's\n",
    "df.dropna(axis=1, how='all', inplace=True)"
   ]
  },
  {
   "cell_type": "code",
   "execution_count": 141,
   "metadata": {},
   "outputs": [],
   "source": [
    "pd.options.display.max_columns = df.shape[1]"
   ]
  },
  {
   "cell_type": "code",
   "execution_count": 142,
   "metadata": {},
   "outputs": [],
   "source": [
    "#Drop any columns that give no info\n",
    "#zip code won't tell us anything, since the full zip codes are hidden\n",
    "df.drop(['id','zip_code'], axis=1, inplace = True)"
   ]
  },
  {
   "cell_type": "code",
   "execution_count": 144,
   "metadata": {},
   "outputs": [
    {
     "data": {
      "text/html": [
       "<div>\n",
       "<style scoped>\n",
       "    .dataframe tbody tr th:only-of-type {\n",
       "        vertical-align: middle;\n",
       "    }\n",
       "\n",
       "    .dataframe tbody tr th {\n",
       "        vertical-align: top;\n",
       "    }\n",
       "\n",
       "    .dataframe thead th {\n",
       "        text-align: right;\n",
       "    }\n",
       "</style>\n",
       "<table border=\"1\" class=\"dataframe\">\n",
       "  <thead>\n",
       "    <tr style=\"text-align: right;\">\n",
       "      <th></th>\n",
       "      <th>loan_amnt</th>\n",
       "      <th>funded_amnt</th>\n",
       "      <th>funded_amnt_inv</th>\n",
       "      <th>term</th>\n",
       "      <th>int_rate</th>\n",
       "      <th>installment</th>\n",
       "      <th>grade</th>\n",
       "      <th>sub_grade</th>\n",
       "      <th>emp_title</th>\n",
       "      <th>emp_length</th>\n",
       "      <th>home_ownership</th>\n",
       "      <th>annual_inc</th>\n",
       "      <th>verification_status</th>\n",
       "      <th>issue_d</th>\n",
       "      <th>loan_status</th>\n",
       "      <th>pymnt_plan</th>\n",
       "      <th>desc</th>\n",
       "      <th>purpose</th>\n",
       "      <th>title</th>\n",
       "      <th>addr_state</th>\n",
       "      <th>dti</th>\n",
       "      <th>delinq_2yrs</th>\n",
       "      <th>earliest_cr_line</th>\n",
       "      <th>inq_last_6mths</th>\n",
       "      <th>mths_since_last_delinq</th>\n",
       "      <th>mths_since_last_record</th>\n",
       "      <th>open_acc</th>\n",
       "      <th>pub_rec</th>\n",
       "      <th>revol_bal</th>\n",
       "      <th>revol_util</th>\n",
       "      <th>total_acc</th>\n",
       "      <th>initial_list_status</th>\n",
       "      <th>out_prncp</th>\n",
       "      <th>out_prncp_inv</th>\n",
       "      <th>total_pymnt</th>\n",
       "      <th>total_pymnt_inv</th>\n",
       "      <th>total_rec_prncp</th>\n",
       "      <th>total_rec_int</th>\n",
       "      <th>total_rec_late_fee</th>\n",
       "      <th>recoveries</th>\n",
       "      <th>collection_recovery_fee</th>\n",
       "      <th>last_pymnt_d</th>\n",
       "      <th>last_pymnt_amnt</th>\n",
       "      <th>next_pymnt_d</th>\n",
       "      <th>last_credit_pull_d</th>\n",
       "      <th>collections_12_mths_ex_med</th>\n",
       "      <th>policy_code</th>\n",
       "      <th>application_type</th>\n",
       "      <th>acc_now_delinq</th>\n",
       "      <th>chargeoff_within_12_mths</th>\n",
       "      <th>delinq_amnt</th>\n",
       "      <th>pub_rec_bankruptcies</th>\n",
       "      <th>tax_liens</th>\n",
       "      <th>hardship_flag</th>\n",
       "      <th>debt_settlement_flag</th>\n",
       "      <th>debt_settlement_flag_date</th>\n",
       "      <th>settlement_status</th>\n",
       "      <th>settlement_date</th>\n",
       "      <th>settlement_amount</th>\n",
       "      <th>settlement_percentage</th>\n",
       "      <th>settlement_term</th>\n",
       "      <th>target</th>\n",
       "    </tr>\n",
       "  </thead>\n",
       "  <tbody>\n",
       "    <tr>\n",
       "      <th>count</th>\n",
       "      <td>42535.000000</td>\n",
       "      <td>42535.000000</td>\n",
       "      <td>42535.000000</td>\n",
       "      <td>42535</td>\n",
       "      <td>42535</td>\n",
       "      <td>42535.000000</td>\n",
       "      <td>42535</td>\n",
       "      <td>42535</td>\n",
       "      <td>39909</td>\n",
       "      <td>41423</td>\n",
       "      <td>42535</td>\n",
       "      <td>4.253100e+04</td>\n",
       "      <td>42535</td>\n",
       "      <td>42535</td>\n",
       "      <td>42535</td>\n",
       "      <td>42535</td>\n",
       "      <td>29242</td>\n",
       "      <td>42535</td>\n",
       "      <td>42522</td>\n",
       "      <td>42535</td>\n",
       "      <td>42535.000000</td>\n",
       "      <td>42506.000000</td>\n",
       "      <td>42506</td>\n",
       "      <td>42506.000000</td>\n",
       "      <td>15609.000000</td>\n",
       "      <td>3651.000000</td>\n",
       "      <td>42506.000000</td>\n",
       "      <td>42506.000000</td>\n",
       "      <td>4.253500e+04</td>\n",
       "      <td>42445</td>\n",
       "      <td>42506.000000</td>\n",
       "      <td>42535</td>\n",
       "      <td>42535.0</td>\n",
       "      <td>42535.0</td>\n",
       "      <td>42535.000000</td>\n",
       "      <td>42535.000000</td>\n",
       "      <td>42535.000000</td>\n",
       "      <td>42535.000000</td>\n",
       "      <td>42535.000000</td>\n",
       "      <td>42535.000000</td>\n",
       "      <td>42535.000000</td>\n",
       "      <td>42452</td>\n",
       "      <td>42535.000000</td>\n",
       "      <td>2749</td>\n",
       "      <td>42531</td>\n",
       "      <td>42390.0</td>\n",
       "      <td>42535.0</td>\n",
       "      <td>42535</td>\n",
       "      <td>42506.000000</td>\n",
       "      <td>42390.0</td>\n",
       "      <td>42506.000000</td>\n",
       "      <td>41170.000000</td>\n",
       "      <td>42430.000000</td>\n",
       "      <td>42535</td>\n",
       "      <td>42535</td>\n",
       "      <td>160</td>\n",
       "      <td>160</td>\n",
       "      <td>160</td>\n",
       "      <td>160.000000</td>\n",
       "      <td>160.000000</td>\n",
       "      <td>160.000000</td>\n",
       "      <td>42539.000000</td>\n",
       "    </tr>\n",
       "    <tr>\n",
       "      <th>unique</th>\n",
       "      <td>NaN</td>\n",
       "      <td>NaN</td>\n",
       "      <td>NaN</td>\n",
       "      <td>2</td>\n",
       "      <td>394</td>\n",
       "      <td>NaN</td>\n",
       "      <td>7</td>\n",
       "      <td>35</td>\n",
       "      <td>30658</td>\n",
       "      <td>11</td>\n",
       "      <td>5</td>\n",
       "      <td>NaN</td>\n",
       "      <td>3</td>\n",
       "      <td>55</td>\n",
       "      <td>4</td>\n",
       "      <td>1</td>\n",
       "      <td>28963</td>\n",
       "      <td>14</td>\n",
       "      <td>21252</td>\n",
       "      <td>50</td>\n",
       "      <td>NaN</td>\n",
       "      <td>NaN</td>\n",
       "      <td>530</td>\n",
       "      <td>NaN</td>\n",
       "      <td>NaN</td>\n",
       "      <td>NaN</td>\n",
       "      <td>NaN</td>\n",
       "      <td>NaN</td>\n",
       "      <td>NaN</td>\n",
       "      <td>1119</td>\n",
       "      <td>NaN</td>\n",
       "      <td>1</td>\n",
       "      <td>NaN</td>\n",
       "      <td>NaN</td>\n",
       "      <td>NaN</td>\n",
       "      <td>NaN</td>\n",
       "      <td>NaN</td>\n",
       "      <td>NaN</td>\n",
       "      <td>NaN</td>\n",
       "      <td>NaN</td>\n",
       "      <td>NaN</td>\n",
       "      <td>112</td>\n",
       "      <td>NaN</td>\n",
       "      <td>98</td>\n",
       "      <td>144</td>\n",
       "      <td>NaN</td>\n",
       "      <td>NaN</td>\n",
       "      <td>1</td>\n",
       "      <td>NaN</td>\n",
       "      <td>NaN</td>\n",
       "      <td>NaN</td>\n",
       "      <td>NaN</td>\n",
       "      <td>NaN</td>\n",
       "      <td>1</td>\n",
       "      <td>2</td>\n",
       "      <td>65</td>\n",
       "      <td>2</td>\n",
       "      <td>61</td>\n",
       "      <td>NaN</td>\n",
       "      <td>NaN</td>\n",
       "      <td>NaN</td>\n",
       "      <td>NaN</td>\n",
       "    </tr>\n",
       "    <tr>\n",
       "      <th>top</th>\n",
       "      <td>NaN</td>\n",
       "      <td>NaN</td>\n",
       "      <td>NaN</td>\n",
       "      <td>36 months</td>\n",
       "      <td>10.99%</td>\n",
       "      <td>NaN</td>\n",
       "      <td>B</td>\n",
       "      <td>B3</td>\n",
       "      <td>US Army</td>\n",
       "      <td>10+ years</td>\n",
       "      <td>RENT</td>\n",
       "      <td>NaN</td>\n",
       "      <td>Not Verified</td>\n",
       "      <td>2020-12-11 00:00:00</td>\n",
       "      <td>Fully Paid</td>\n",
       "      <td>n</td>\n",
       "      <td></td>\n",
       "      <td>debt_consolidation</td>\n",
       "      <td>Debt Consolidation</td>\n",
       "      <td>CA</td>\n",
       "      <td>NaN</td>\n",
       "      <td>NaN</td>\n",
       "      <td>1999-10-01 00:00:00</td>\n",
       "      <td>NaN</td>\n",
       "      <td>NaN</td>\n",
       "      <td>NaN</td>\n",
       "      <td>NaN</td>\n",
       "      <td>NaN</td>\n",
       "      <td>NaN</td>\n",
       "      <td>0%</td>\n",
       "      <td>NaN</td>\n",
       "      <td>f</td>\n",
       "      <td>NaN</td>\n",
       "      <td>NaN</td>\n",
       "      <td>NaN</td>\n",
       "      <td>NaN</td>\n",
       "      <td>NaN</td>\n",
       "      <td>NaN</td>\n",
       "      <td>NaN</td>\n",
       "      <td>NaN</td>\n",
       "      <td>NaN</td>\n",
       "      <td>2020-03-13 00:00:00</td>\n",
       "      <td>NaN</td>\n",
       "      <td>11-Mar</td>\n",
       "      <td>2020-07-19 00:00:00</td>\n",
       "      <td>NaN</td>\n",
       "      <td>NaN</td>\n",
       "      <td>Individual</td>\n",
       "      <td>NaN</td>\n",
       "      <td>NaN</td>\n",
       "      <td>NaN</td>\n",
       "      <td>NaN</td>\n",
       "      <td>NaN</td>\n",
       "      <td>N</td>\n",
       "      <td>N</td>\n",
       "      <td>17-Jun</td>\n",
       "      <td>COMPLETE</td>\n",
       "      <td>13-Sep</td>\n",
       "      <td>NaN</td>\n",
       "      <td>NaN</td>\n",
       "      <td>NaN</td>\n",
       "      <td>NaN</td>\n",
       "    </tr>\n",
       "    <tr>\n",
       "      <th>freq</th>\n",
       "      <td>NaN</td>\n",
       "      <td>NaN</td>\n",
       "      <td>NaN</td>\n",
       "      <td>31534</td>\n",
       "      <td>970</td>\n",
       "      <td>NaN</td>\n",
       "      <td>12389</td>\n",
       "      <td>2997</td>\n",
       "      <td>139</td>\n",
       "      <td>9369</td>\n",
       "      <td>20181</td>\n",
       "      <td>NaN</td>\n",
       "      <td>18758</td>\n",
       "      <td>2267</td>\n",
       "      <td>34116</td>\n",
       "      <td>42535</td>\n",
       "      <td>225</td>\n",
       "      <td>19776</td>\n",
       "      <td>2259</td>\n",
       "      <td>7429</td>\n",
       "      <td>NaN</td>\n",
       "      <td>NaN</td>\n",
       "      <td>393</td>\n",
       "      <td>NaN</td>\n",
       "      <td>NaN</td>\n",
       "      <td>NaN</td>\n",
       "      <td>NaN</td>\n",
       "      <td>NaN</td>\n",
       "      <td>NaN</td>\n",
       "      <td>1070</td>\n",
       "      <td>NaN</td>\n",
       "      <td>42535</td>\n",
       "      <td>NaN</td>\n",
       "      <td>NaN</td>\n",
       "      <td>NaN</td>\n",
       "      <td>NaN</td>\n",
       "      <td>NaN</td>\n",
       "      <td>NaN</td>\n",
       "      <td>NaN</td>\n",
       "      <td>NaN</td>\n",
       "      <td>NaN</td>\n",
       "      <td>1070</td>\n",
       "      <td>NaN</td>\n",
       "      <td>107</td>\n",
       "      <td>8515</td>\n",
       "      <td>NaN</td>\n",
       "      <td>NaN</td>\n",
       "      <td>42535</td>\n",
       "      <td>NaN</td>\n",
       "      <td>NaN</td>\n",
       "      <td>NaN</td>\n",
       "      <td>NaN</td>\n",
       "      <td>NaN</td>\n",
       "      <td>42535</td>\n",
       "      <td>42375</td>\n",
       "      <td>18</td>\n",
       "      <td>146</td>\n",
       "      <td>8</td>\n",
       "      <td>NaN</td>\n",
       "      <td>NaN</td>\n",
       "      <td>NaN</td>\n",
       "      <td>NaN</td>\n",
       "    </tr>\n",
       "    <tr>\n",
       "      <th>first</th>\n",
       "      <td>NaN</td>\n",
       "      <td>NaN</td>\n",
       "      <td>NaN</td>\n",
       "      <td>NaN</td>\n",
       "      <td>NaN</td>\n",
       "      <td>NaN</td>\n",
       "      <td>NaN</td>\n",
       "      <td>NaN</td>\n",
       "      <td>NaN</td>\n",
       "      <td>NaN</td>\n",
       "      <td>NaN</td>\n",
       "      <td>NaN</td>\n",
       "      <td>NaN</td>\n",
       "      <td>2020-01-08 00:00:00</td>\n",
       "      <td>NaN</td>\n",
       "      <td>NaN</td>\n",
       "      <td>NaN</td>\n",
       "      <td>NaN</td>\n",
       "      <td>NaN</td>\n",
       "      <td>NaN</td>\n",
       "      <td>NaN</td>\n",
       "      <td>NaN</td>\n",
       "      <td>1970-01-01 00:00:00</td>\n",
       "      <td>NaN</td>\n",
       "      <td>NaN</td>\n",
       "      <td>NaN</td>\n",
       "      <td>NaN</td>\n",
       "      <td>NaN</td>\n",
       "      <td>NaN</td>\n",
       "      <td>NaN</td>\n",
       "      <td>NaN</td>\n",
       "      <td>NaN</td>\n",
       "      <td>NaN</td>\n",
       "      <td>NaN</td>\n",
       "      <td>NaN</td>\n",
       "      <td>NaN</td>\n",
       "      <td>NaN</td>\n",
       "      <td>NaN</td>\n",
       "      <td>NaN</td>\n",
       "      <td>NaN</td>\n",
       "      <td>NaN</td>\n",
       "      <td>2020-01-08 00:00:00</td>\n",
       "      <td>NaN</td>\n",
       "      <td>NaN</td>\n",
       "      <td>2020-01-08 00:00:00</td>\n",
       "      <td>NaN</td>\n",
       "      <td>NaN</td>\n",
       "      <td>NaN</td>\n",
       "      <td>NaN</td>\n",
       "      <td>NaN</td>\n",
       "      <td>NaN</td>\n",
       "      <td>NaN</td>\n",
       "      <td>NaN</td>\n",
       "      <td>NaN</td>\n",
       "      <td>NaN</td>\n",
       "      <td>NaN</td>\n",
       "      <td>NaN</td>\n",
       "      <td>NaN</td>\n",
       "      <td>NaN</td>\n",
       "      <td>NaN</td>\n",
       "      <td>NaN</td>\n",
       "      <td>NaN</td>\n",
       "    </tr>\n",
       "    <tr>\n",
       "      <th>last</th>\n",
       "      <td>NaN</td>\n",
       "      <td>NaN</td>\n",
       "      <td>NaN</td>\n",
       "      <td>NaN</td>\n",
       "      <td>NaN</td>\n",
       "      <td>NaN</td>\n",
       "      <td>NaN</td>\n",
       "      <td>NaN</td>\n",
       "      <td>NaN</td>\n",
       "      <td>NaN</td>\n",
       "      <td>NaN</td>\n",
       "      <td>NaN</td>\n",
       "      <td>NaN</td>\n",
       "      <td>2020-12-11 00:00:00</td>\n",
       "      <td>NaN</td>\n",
       "      <td>NaN</td>\n",
       "      <td>NaN</td>\n",
       "      <td>NaN</td>\n",
       "      <td>NaN</td>\n",
       "      <td>NaN</td>\n",
       "      <td>NaN</td>\n",
       "      <td>NaN</td>\n",
       "      <td>2069-12-01 00:00:00</td>\n",
       "      <td>NaN</td>\n",
       "      <td>NaN</td>\n",
       "      <td>NaN</td>\n",
       "      <td>NaN</td>\n",
       "      <td>NaN</td>\n",
       "      <td>NaN</td>\n",
       "      <td>NaN</td>\n",
       "      <td>NaN</td>\n",
       "      <td>NaN</td>\n",
       "      <td>NaN</td>\n",
       "      <td>NaN</td>\n",
       "      <td>NaN</td>\n",
       "      <td>NaN</td>\n",
       "      <td>NaN</td>\n",
       "      <td>NaN</td>\n",
       "      <td>NaN</td>\n",
       "      <td>NaN</td>\n",
       "      <td>NaN</td>\n",
       "      <td>2020-12-16 00:00:00</td>\n",
       "      <td>NaN</td>\n",
       "      <td>NaN</td>\n",
       "      <td>2020-12-18 00:00:00</td>\n",
       "      <td>NaN</td>\n",
       "      <td>NaN</td>\n",
       "      <td>NaN</td>\n",
       "      <td>NaN</td>\n",
       "      <td>NaN</td>\n",
       "      <td>NaN</td>\n",
       "      <td>NaN</td>\n",
       "      <td>NaN</td>\n",
       "      <td>NaN</td>\n",
       "      <td>NaN</td>\n",
       "      <td>NaN</td>\n",
       "      <td>NaN</td>\n",
       "      <td>NaN</td>\n",
       "      <td>NaN</td>\n",
       "      <td>NaN</td>\n",
       "      <td>NaN</td>\n",
       "      <td>NaN</td>\n",
       "    </tr>\n",
       "    <tr>\n",
       "      <th>mean</th>\n",
       "      <td>11089.722581</td>\n",
       "      <td>10821.585753</td>\n",
       "      <td>10139.938785</td>\n",
       "      <td>NaN</td>\n",
       "      <td>NaN</td>\n",
       "      <td>322.623063</td>\n",
       "      <td>NaN</td>\n",
       "      <td>NaN</td>\n",
       "      <td>NaN</td>\n",
       "      <td>NaN</td>\n",
       "      <td>NaN</td>\n",
       "      <td>6.913656e+04</td>\n",
       "      <td>NaN</td>\n",
       "      <td>NaN</td>\n",
       "      <td>NaN</td>\n",
       "      <td>NaN</td>\n",
       "      <td>NaN</td>\n",
       "      <td>NaN</td>\n",
       "      <td>NaN</td>\n",
       "      <td>NaN</td>\n",
       "      <td>13.373043</td>\n",
       "      <td>0.152449</td>\n",
       "      <td>NaN</td>\n",
       "      <td>1.081424</td>\n",
       "      <td>35.017618</td>\n",
       "      <td>59.175568</td>\n",
       "      <td>9.343951</td>\n",
       "      <td>0.058156</td>\n",
       "      <td>1.429786e+04</td>\n",
       "      <td>NaN</td>\n",
       "      <td>22.124406</td>\n",
       "      <td>NaN</td>\n",
       "      <td>0.0</td>\n",
       "      <td>0.0</td>\n",
       "      <td>12020.425217</td>\n",
       "      <td>11312.964257</td>\n",
       "      <td>9675.675936</td>\n",
       "      <td>2239.981444</td>\n",
       "      <td>1.516890</td>\n",
       "      <td>103.251040</td>\n",
       "      <td>14.430246</td>\n",
       "      <td>NaN</td>\n",
       "      <td>2613.245652</td>\n",
       "      <td>NaN</td>\n",
       "      <td>NaN</td>\n",
       "      <td>0.0</td>\n",
       "      <td>1.0</td>\n",
       "      <td>NaN</td>\n",
       "      <td>0.000094</td>\n",
       "      <td>0.0</td>\n",
       "      <td>0.143039</td>\n",
       "      <td>0.045227</td>\n",
       "      <td>0.000024</td>\n",
       "      <td>NaN</td>\n",
       "      <td>NaN</td>\n",
       "      <td>NaN</td>\n",
       "      <td>NaN</td>\n",
       "      <td>NaN</td>\n",
       "      <td>4270.794250</td>\n",
       "      <td>49.889875</td>\n",
       "      <td>1.262500</td>\n",
       "      <td>0.197913</td>\n",
       "    </tr>\n",
       "    <tr>\n",
       "      <th>std</th>\n",
       "      <td>7410.938391</td>\n",
       "      <td>7146.914675</td>\n",
       "      <td>7131.598014</td>\n",
       "      <td>NaN</td>\n",
       "      <td>NaN</td>\n",
       "      <td>208.927216</td>\n",
       "      <td>NaN</td>\n",
       "      <td>NaN</td>\n",
       "      <td>NaN</td>\n",
       "      <td>NaN</td>\n",
       "      <td>NaN</td>\n",
       "      <td>6.409635e+04</td>\n",
       "      <td>NaN</td>\n",
       "      <td>NaN</td>\n",
       "      <td>NaN</td>\n",
       "      <td>NaN</td>\n",
       "      <td>NaN</td>\n",
       "      <td>NaN</td>\n",
       "      <td>NaN</td>\n",
       "      <td>NaN</td>\n",
       "      <td>6.726315</td>\n",
       "      <td>0.512406</td>\n",
       "      <td>NaN</td>\n",
       "      <td>1.527455</td>\n",
       "      <td>22.418427</td>\n",
       "      <td>47.145396</td>\n",
       "      <td>4.496274</td>\n",
       "      <td>0.245713</td>\n",
       "      <td>2.201844e+04</td>\n",
       "      <td>NaN</td>\n",
       "      <td>11.592811</td>\n",
       "      <td>NaN</td>\n",
       "      <td>0.0</td>\n",
       "      <td>0.0</td>\n",
       "      <td>9094.907799</td>\n",
       "      <td>9038.648618</td>\n",
       "      <td>7105.750304</td>\n",
       "      <td>2585.057393</td>\n",
       "      <td>7.830064</td>\n",
       "      <td>737.306459</td>\n",
       "      <td>162.393653</td>\n",
       "      <td>NaN</td>\n",
       "      <td>4385.066535</td>\n",
       "      <td>NaN</td>\n",
       "      <td>NaN</td>\n",
       "      <td>0.0</td>\n",
       "      <td>0.0</td>\n",
       "      <td>NaN</td>\n",
       "      <td>0.009700</td>\n",
       "      <td>0.0</td>\n",
       "      <td>29.359579</td>\n",
       "      <td>0.208737</td>\n",
       "      <td>0.004855</td>\n",
       "      <td>NaN</td>\n",
       "      <td>NaN</td>\n",
       "      <td>NaN</td>\n",
       "      <td>NaN</td>\n",
       "      <td>NaN</td>\n",
       "      <td>3119.543917</td>\n",
       "      <td>15.569143</td>\n",
       "      <td>4.142869</td>\n",
       "      <td>0.398431</td>\n",
       "    </tr>\n",
       "    <tr>\n",
       "      <th>min</th>\n",
       "      <td>500.000000</td>\n",
       "      <td>500.000000</td>\n",
       "      <td>0.000000</td>\n",
       "      <td>NaN</td>\n",
       "      <td>NaN</td>\n",
       "      <td>15.670000</td>\n",
       "      <td>NaN</td>\n",
       "      <td>NaN</td>\n",
       "      <td>NaN</td>\n",
       "      <td>NaN</td>\n",
       "      <td>NaN</td>\n",
       "      <td>1.896000e+03</td>\n",
       "      <td>NaN</td>\n",
       "      <td>NaN</td>\n",
       "      <td>NaN</td>\n",
       "      <td>NaN</td>\n",
       "      <td>NaN</td>\n",
       "      <td>NaN</td>\n",
       "      <td>NaN</td>\n",
       "      <td>NaN</td>\n",
       "      <td>0.000000</td>\n",
       "      <td>0.000000</td>\n",
       "      <td>NaN</td>\n",
       "      <td>0.000000</td>\n",
       "      <td>0.000000</td>\n",
       "      <td>0.000000</td>\n",
       "      <td>1.000000</td>\n",
       "      <td>0.000000</td>\n",
       "      <td>0.000000e+00</td>\n",
       "      <td>NaN</td>\n",
       "      <td>1.000000</td>\n",
       "      <td>NaN</td>\n",
       "      <td>0.0</td>\n",
       "      <td>0.0</td>\n",
       "      <td>0.000000</td>\n",
       "      <td>0.000000</td>\n",
       "      <td>0.000000</td>\n",
       "      <td>0.000000</td>\n",
       "      <td>0.000000</td>\n",
       "      <td>0.000000</td>\n",
       "      <td>0.000000</td>\n",
       "      <td>NaN</td>\n",
       "      <td>0.000000</td>\n",
       "      <td>NaN</td>\n",
       "      <td>NaN</td>\n",
       "      <td>0.0</td>\n",
       "      <td>1.0</td>\n",
       "      <td>NaN</td>\n",
       "      <td>0.000000</td>\n",
       "      <td>0.0</td>\n",
       "      <td>0.000000</td>\n",
       "      <td>0.000000</td>\n",
       "      <td>0.000000</td>\n",
       "      <td>NaN</td>\n",
       "      <td>NaN</td>\n",
       "      <td>NaN</td>\n",
       "      <td>NaN</td>\n",
       "      <td>NaN</td>\n",
       "      <td>193.290000</td>\n",
       "      <td>10.690000</td>\n",
       "      <td>0.000000</td>\n",
       "      <td>0.000000</td>\n",
       "    </tr>\n",
       "    <tr>\n",
       "      <th>25%</th>\n",
       "      <td>5200.000000</td>\n",
       "      <td>5000.000000</td>\n",
       "      <td>4950.000000</td>\n",
       "      <td>NaN</td>\n",
       "      <td>NaN</td>\n",
       "      <td>165.520000</td>\n",
       "      <td>NaN</td>\n",
       "      <td>NaN</td>\n",
       "      <td>NaN</td>\n",
       "      <td>NaN</td>\n",
       "      <td>NaN</td>\n",
       "      <td>4.000000e+04</td>\n",
       "      <td>NaN</td>\n",
       "      <td>NaN</td>\n",
       "      <td>NaN</td>\n",
       "      <td>NaN</td>\n",
       "      <td>NaN</td>\n",
       "      <td>NaN</td>\n",
       "      <td>NaN</td>\n",
       "      <td>NaN</td>\n",
       "      <td>8.200000</td>\n",
       "      <td>0.000000</td>\n",
       "      <td>NaN</td>\n",
       "      <td>0.000000</td>\n",
       "      <td>17.000000</td>\n",
       "      <td>0.000000</td>\n",
       "      <td>6.000000</td>\n",
       "      <td>0.000000</td>\n",
       "      <td>3.635000e+03</td>\n",
       "      <td>NaN</td>\n",
       "      <td>13.000000</td>\n",
       "      <td>NaN</td>\n",
       "      <td>0.0</td>\n",
       "      <td>0.0</td>\n",
       "      <td>5465.685189</td>\n",
       "      <td>4793.115000</td>\n",
       "      <td>4400.000000</td>\n",
       "      <td>657.100000</td>\n",
       "      <td>0.000000</td>\n",
       "      <td>0.000000</td>\n",
       "      <td>0.000000</td>\n",
       "      <td>NaN</td>\n",
       "      <td>211.050000</td>\n",
       "      <td>NaN</td>\n",
       "      <td>NaN</td>\n",
       "      <td>0.0</td>\n",
       "      <td>1.0</td>\n",
       "      <td>NaN</td>\n",
       "      <td>0.000000</td>\n",
       "      <td>0.0</td>\n",
       "      <td>0.000000</td>\n",
       "      <td>0.000000</td>\n",
       "      <td>0.000000</td>\n",
       "      <td>NaN</td>\n",
       "      <td>NaN</td>\n",
       "      <td>NaN</td>\n",
       "      <td>NaN</td>\n",
       "      <td>NaN</td>\n",
       "      <td>1842.750000</td>\n",
       "      <td>40.000000</td>\n",
       "      <td>0.000000</td>\n",
       "      <td>0.000000</td>\n",
       "    </tr>\n",
       "    <tr>\n",
       "      <th>50%</th>\n",
       "      <td>9700.000000</td>\n",
       "      <td>9600.000000</td>\n",
       "      <td>8500.000000</td>\n",
       "      <td>NaN</td>\n",
       "      <td>NaN</td>\n",
       "      <td>277.690000</td>\n",
       "      <td>NaN</td>\n",
       "      <td>NaN</td>\n",
       "      <td>NaN</td>\n",
       "      <td>NaN</td>\n",
       "      <td>NaN</td>\n",
       "      <td>5.900000e+04</td>\n",
       "      <td>NaN</td>\n",
       "      <td>NaN</td>\n",
       "      <td>NaN</td>\n",
       "      <td>NaN</td>\n",
       "      <td>NaN</td>\n",
       "      <td>NaN</td>\n",
       "      <td>NaN</td>\n",
       "      <td>NaN</td>\n",
       "      <td>13.470000</td>\n",
       "      <td>0.000000</td>\n",
       "      <td>NaN</td>\n",
       "      <td>1.000000</td>\n",
       "      <td>33.000000</td>\n",
       "      <td>85.000000</td>\n",
       "      <td>9.000000</td>\n",
       "      <td>0.000000</td>\n",
       "      <td>8.821000e+03</td>\n",
       "      <td>NaN</td>\n",
       "      <td>20.000000</td>\n",
       "      <td>NaN</td>\n",
       "      <td>0.0</td>\n",
       "      <td>0.0</td>\n",
       "      <td>9682.251696</td>\n",
       "      <td>8956.080000</td>\n",
       "      <td>8000.000000</td>\n",
       "      <td>1339.160000</td>\n",
       "      <td>0.000000</td>\n",
       "      <td>0.000000</td>\n",
       "      <td>0.000000</td>\n",
       "      <td>NaN</td>\n",
       "      <td>528.360000</td>\n",
       "      <td>NaN</td>\n",
       "      <td>NaN</td>\n",
       "      <td>0.0</td>\n",
       "      <td>1.0</td>\n",
       "      <td>NaN</td>\n",
       "      <td>0.000000</td>\n",
       "      <td>0.0</td>\n",
       "      <td>0.000000</td>\n",
       "      <td>0.000000</td>\n",
       "      <td>0.000000</td>\n",
       "      <td>NaN</td>\n",
       "      <td>NaN</td>\n",
       "      <td>NaN</td>\n",
       "      <td>NaN</td>\n",
       "      <td>NaN</td>\n",
       "      <td>3499.350000</td>\n",
       "      <td>49.970000</td>\n",
       "      <td>0.000000</td>\n",
       "      <td>0.000000</td>\n",
       "    </tr>\n",
       "    <tr>\n",
       "      <th>75%</th>\n",
       "      <td>15000.000000</td>\n",
       "      <td>15000.000000</td>\n",
       "      <td>14000.000000</td>\n",
       "      <td>NaN</td>\n",
       "      <td>NaN</td>\n",
       "      <td>428.180000</td>\n",
       "      <td>NaN</td>\n",
       "      <td>NaN</td>\n",
       "      <td>NaN</td>\n",
       "      <td>NaN</td>\n",
       "      <td>NaN</td>\n",
       "      <td>8.250000e+04</td>\n",
       "      <td>NaN</td>\n",
       "      <td>NaN</td>\n",
       "      <td>NaN</td>\n",
       "      <td>NaN</td>\n",
       "      <td>NaN</td>\n",
       "      <td>NaN</td>\n",
       "      <td>NaN</td>\n",
       "      <td>NaN</td>\n",
       "      <td>18.680000</td>\n",
       "      <td>0.000000</td>\n",
       "      <td>NaN</td>\n",
       "      <td>2.000000</td>\n",
       "      <td>51.000000</td>\n",
       "      <td>101.000000</td>\n",
       "      <td>12.000000</td>\n",
       "      <td>0.000000</td>\n",
       "      <td>1.725100e+04</td>\n",
       "      <td>NaN</td>\n",
       "      <td>29.000000</td>\n",
       "      <td>NaN</td>\n",
       "      <td>0.0</td>\n",
       "      <td>0.0</td>\n",
       "      <td>16427.850065</td>\n",
       "      <td>15544.335000</td>\n",
       "      <td>13499.995000</td>\n",
       "      <td>2803.090000</td>\n",
       "      <td>0.000000</td>\n",
       "      <td>0.000000</td>\n",
       "      <td>0.000000</td>\n",
       "      <td>NaN</td>\n",
       "      <td>3170.220000</td>\n",
       "      <td>NaN</td>\n",
       "      <td>NaN</td>\n",
       "      <td>0.0</td>\n",
       "      <td>1.0</td>\n",
       "      <td>NaN</td>\n",
       "      <td>0.000000</td>\n",
       "      <td>0.0</td>\n",
       "      <td>0.000000</td>\n",
       "      <td>0.000000</td>\n",
       "      <td>0.000000</td>\n",
       "      <td>NaN</td>\n",
       "      <td>NaN</td>\n",
       "      <td>NaN</td>\n",
       "      <td>NaN</td>\n",
       "      <td>NaN</td>\n",
       "      <td>5701.100000</td>\n",
       "      <td>60.652500</td>\n",
       "      <td>0.000000</td>\n",
       "      <td>0.000000</td>\n",
       "    </tr>\n",
       "    <tr>\n",
       "      <th>max</th>\n",
       "      <td>35000.000000</td>\n",
       "      <td>35000.000000</td>\n",
       "      <td>35000.000000</td>\n",
       "      <td>NaN</td>\n",
       "      <td>NaN</td>\n",
       "      <td>1305.190000</td>\n",
       "      <td>NaN</td>\n",
       "      <td>NaN</td>\n",
       "      <td>NaN</td>\n",
       "      <td>NaN</td>\n",
       "      <td>NaN</td>\n",
       "      <td>6.000000e+06</td>\n",
       "      <td>NaN</td>\n",
       "      <td>NaN</td>\n",
       "      <td>NaN</td>\n",
       "      <td>NaN</td>\n",
       "      <td>NaN</td>\n",
       "      <td>NaN</td>\n",
       "      <td>NaN</td>\n",
       "      <td>NaN</td>\n",
       "      <td>29.990000</td>\n",
       "      <td>13.000000</td>\n",
       "      <td>NaN</td>\n",
       "      <td>33.000000</td>\n",
       "      <td>120.000000</td>\n",
       "      <td>129.000000</td>\n",
       "      <td>47.000000</td>\n",
       "      <td>5.000000</td>\n",
       "      <td>1.207359e+06</td>\n",
       "      <td>NaN</td>\n",
       "      <td>90.000000</td>\n",
       "      <td>NaN</td>\n",
       "      <td>0.0</td>\n",
       "      <td>0.0</td>\n",
       "      <td>58886.473430</td>\n",
       "      <td>58563.680000</td>\n",
       "      <td>35000.020000</td>\n",
       "      <td>23886.470000</td>\n",
       "      <td>209.000000</td>\n",
       "      <td>29623.350000</td>\n",
       "      <td>7002.190000</td>\n",
       "      <td>NaN</td>\n",
       "      <td>36115.200000</td>\n",
       "      <td>NaN</td>\n",
       "      <td>NaN</td>\n",
       "      <td>0.0</td>\n",
       "      <td>1.0</td>\n",
       "      <td>NaN</td>\n",
       "      <td>1.000000</td>\n",
       "      <td>0.0</td>\n",
       "      <td>6053.000000</td>\n",
       "      <td>2.000000</td>\n",
       "      <td>1.000000</td>\n",
       "      <td>NaN</td>\n",
       "      <td>NaN</td>\n",
       "      <td>NaN</td>\n",
       "      <td>NaN</td>\n",
       "      <td>NaN</td>\n",
       "      <td>14798.200000</td>\n",
       "      <td>92.740000</td>\n",
       "      <td>24.000000</td>\n",
       "      <td>1.000000</td>\n",
       "    </tr>\n",
       "  </tbody>\n",
       "</table>\n",
       "</div>"
      ],
      "text/plain": [
       "           loan_amnt   funded_amnt  funded_amnt_inv        term int_rate  \\\n",
       "count   42535.000000  42535.000000     42535.000000       42535    42535   \n",
       "unique           NaN           NaN              NaN           2      394   \n",
       "top              NaN           NaN              NaN   36 months   10.99%   \n",
       "freq             NaN           NaN              NaN       31534      970   \n",
       "first            NaN           NaN              NaN         NaN      NaN   \n",
       "last             NaN           NaN              NaN         NaN      NaN   \n",
       "mean    11089.722581  10821.585753     10139.938785         NaN      NaN   \n",
       "std      7410.938391   7146.914675      7131.598014         NaN      NaN   \n",
       "min       500.000000    500.000000         0.000000         NaN      NaN   \n",
       "25%      5200.000000   5000.000000      4950.000000         NaN      NaN   \n",
       "50%      9700.000000   9600.000000      8500.000000         NaN      NaN   \n",
       "75%     15000.000000  15000.000000     14000.000000         NaN      NaN   \n",
       "max     35000.000000  35000.000000     35000.000000         NaN      NaN   \n",
       "\n",
       "         installment  grade sub_grade emp_title emp_length home_ownership  \\\n",
       "count   42535.000000  42535     42535     39909      41423          42535   \n",
       "unique           NaN      7        35     30658         11              5   \n",
       "top              NaN      B        B3   US Army  10+ years           RENT   \n",
       "freq             NaN  12389      2997       139       9369          20181   \n",
       "first            NaN    NaN       NaN       NaN        NaN            NaN   \n",
       "last             NaN    NaN       NaN       NaN        NaN            NaN   \n",
       "mean      322.623063    NaN       NaN       NaN        NaN            NaN   \n",
       "std       208.927216    NaN       NaN       NaN        NaN            NaN   \n",
       "min        15.670000    NaN       NaN       NaN        NaN            NaN   \n",
       "25%       165.520000    NaN       NaN       NaN        NaN            NaN   \n",
       "50%       277.690000    NaN       NaN       NaN        NaN            NaN   \n",
       "75%       428.180000    NaN       NaN       NaN        NaN            NaN   \n",
       "max      1305.190000    NaN       NaN       NaN        NaN            NaN   \n",
       "\n",
       "          annual_inc verification_status              issue_d loan_status  \\\n",
       "count   4.253100e+04               42535                42535       42535   \n",
       "unique           NaN                   3                   55           4   \n",
       "top              NaN        Not Verified  2020-12-11 00:00:00  Fully Paid   \n",
       "freq             NaN               18758                 2267       34116   \n",
       "first            NaN                 NaN  2020-01-08 00:00:00         NaN   \n",
       "last             NaN                 NaN  2020-12-11 00:00:00         NaN   \n",
       "mean    6.913656e+04                 NaN                  NaN         NaN   \n",
       "std     6.409635e+04                 NaN                  NaN         NaN   \n",
       "min     1.896000e+03                 NaN                  NaN         NaN   \n",
       "25%     4.000000e+04                 NaN                  NaN         NaN   \n",
       "50%     5.900000e+04                 NaN                  NaN         NaN   \n",
       "75%     8.250000e+04                 NaN                  NaN         NaN   \n",
       "max     6.000000e+06                 NaN                  NaN         NaN   \n",
       "\n",
       "       pymnt_plan   desc             purpose               title addr_state  \\\n",
       "count       42535  29242               42535               42522      42535   \n",
       "unique          1  28963                  14               21252         50   \n",
       "top             n         debt_consolidation  Debt Consolidation         CA   \n",
       "freq        42535    225               19776                2259       7429   \n",
       "first         NaN    NaN                 NaN                 NaN        NaN   \n",
       "last          NaN    NaN                 NaN                 NaN        NaN   \n",
       "mean          NaN    NaN                 NaN                 NaN        NaN   \n",
       "std           NaN    NaN                 NaN                 NaN        NaN   \n",
       "min           NaN    NaN                 NaN                 NaN        NaN   \n",
       "25%           NaN    NaN                 NaN                 NaN        NaN   \n",
       "50%           NaN    NaN                 NaN                 NaN        NaN   \n",
       "75%           NaN    NaN                 NaN                 NaN        NaN   \n",
       "max           NaN    NaN                 NaN                 NaN        NaN   \n",
       "\n",
       "                 dti   delinq_2yrs     earliest_cr_line  inq_last_6mths  \\\n",
       "count   42535.000000  42506.000000                42506    42506.000000   \n",
       "unique           NaN           NaN                  530             NaN   \n",
       "top              NaN           NaN  1999-10-01 00:00:00             NaN   \n",
       "freq             NaN           NaN                  393             NaN   \n",
       "first            NaN           NaN  1970-01-01 00:00:00             NaN   \n",
       "last             NaN           NaN  2069-12-01 00:00:00             NaN   \n",
       "mean       13.373043      0.152449                  NaN        1.081424   \n",
       "std         6.726315      0.512406                  NaN        1.527455   \n",
       "min         0.000000      0.000000                  NaN        0.000000   \n",
       "25%         8.200000      0.000000                  NaN        0.000000   \n",
       "50%        13.470000      0.000000                  NaN        1.000000   \n",
       "75%        18.680000      0.000000                  NaN        2.000000   \n",
       "max        29.990000     13.000000                  NaN       33.000000   \n",
       "\n",
       "        mths_since_last_delinq  mths_since_last_record      open_acc  \\\n",
       "count             15609.000000             3651.000000  42506.000000   \n",
       "unique                     NaN                     NaN           NaN   \n",
       "top                        NaN                     NaN           NaN   \n",
       "freq                       NaN                     NaN           NaN   \n",
       "first                      NaN                     NaN           NaN   \n",
       "last                       NaN                     NaN           NaN   \n",
       "mean                 35.017618               59.175568      9.343951   \n",
       "std                  22.418427               47.145396      4.496274   \n",
       "min                   0.000000                0.000000      1.000000   \n",
       "25%                  17.000000                0.000000      6.000000   \n",
       "50%                  33.000000               85.000000      9.000000   \n",
       "75%                  51.000000              101.000000     12.000000   \n",
       "max                 120.000000              129.000000     47.000000   \n",
       "\n",
       "             pub_rec     revol_bal revol_util     total_acc  \\\n",
       "count   42506.000000  4.253500e+04      42445  42506.000000   \n",
       "unique           NaN           NaN       1119           NaN   \n",
       "top              NaN           NaN         0%           NaN   \n",
       "freq             NaN           NaN       1070           NaN   \n",
       "first            NaN           NaN        NaN           NaN   \n",
       "last             NaN           NaN        NaN           NaN   \n",
       "mean        0.058156  1.429786e+04        NaN     22.124406   \n",
       "std         0.245713  2.201844e+04        NaN     11.592811   \n",
       "min         0.000000  0.000000e+00        NaN      1.000000   \n",
       "25%         0.000000  3.635000e+03        NaN     13.000000   \n",
       "50%         0.000000  8.821000e+03        NaN     20.000000   \n",
       "75%         0.000000  1.725100e+04        NaN     29.000000   \n",
       "max         5.000000  1.207359e+06        NaN     90.000000   \n",
       "\n",
       "       initial_list_status  out_prncp  out_prncp_inv   total_pymnt  \\\n",
       "count                42535    42535.0        42535.0  42535.000000   \n",
       "unique                   1        NaN            NaN           NaN   \n",
       "top                      f        NaN            NaN           NaN   \n",
       "freq                 42535        NaN            NaN           NaN   \n",
       "first                  NaN        NaN            NaN           NaN   \n",
       "last                   NaN        NaN            NaN           NaN   \n",
       "mean                   NaN        0.0            0.0  12020.425217   \n",
       "std                    NaN        0.0            0.0   9094.907799   \n",
       "min                    NaN        0.0            0.0      0.000000   \n",
       "25%                    NaN        0.0            0.0   5465.685189   \n",
       "50%                    NaN        0.0            0.0   9682.251696   \n",
       "75%                    NaN        0.0            0.0  16427.850065   \n",
       "max                    NaN        0.0            0.0  58886.473430   \n",
       "\n",
       "        total_pymnt_inv  total_rec_prncp  total_rec_int  total_rec_late_fee  \\\n",
       "count      42535.000000     42535.000000   42535.000000        42535.000000   \n",
       "unique              NaN              NaN            NaN                 NaN   \n",
       "top                 NaN              NaN            NaN                 NaN   \n",
       "freq                NaN              NaN            NaN                 NaN   \n",
       "first               NaN              NaN            NaN                 NaN   \n",
       "last                NaN              NaN            NaN                 NaN   \n",
       "mean       11312.964257      9675.675936    2239.981444            1.516890   \n",
       "std         9038.648618      7105.750304    2585.057393            7.830064   \n",
       "min            0.000000         0.000000       0.000000            0.000000   \n",
       "25%         4793.115000      4400.000000     657.100000            0.000000   \n",
       "50%         8956.080000      8000.000000    1339.160000            0.000000   \n",
       "75%        15544.335000     13499.995000    2803.090000            0.000000   \n",
       "max        58563.680000     35000.020000   23886.470000          209.000000   \n",
       "\n",
       "          recoveries  collection_recovery_fee         last_pymnt_d  \\\n",
       "count   42535.000000             42535.000000                42452   \n",
       "unique           NaN                      NaN                  112   \n",
       "top              NaN                      NaN  2020-03-13 00:00:00   \n",
       "freq             NaN                      NaN                 1070   \n",
       "first            NaN                      NaN  2020-01-08 00:00:00   \n",
       "last             NaN                      NaN  2020-12-16 00:00:00   \n",
       "mean      103.251040                14.430246                  NaN   \n",
       "std       737.306459               162.393653                  NaN   \n",
       "min         0.000000                 0.000000                  NaN   \n",
       "25%         0.000000                 0.000000                  NaN   \n",
       "50%         0.000000                 0.000000                  NaN   \n",
       "75%         0.000000                 0.000000                  NaN   \n",
       "max     29623.350000              7002.190000                  NaN   \n",
       "\n",
       "        last_pymnt_amnt next_pymnt_d   last_credit_pull_d  \\\n",
       "count      42535.000000         2749                42531   \n",
       "unique              NaN           98                  144   \n",
       "top                 NaN       11-Mar  2020-07-19 00:00:00   \n",
       "freq                NaN          107                 8515   \n",
       "first               NaN          NaN  2020-01-08 00:00:00   \n",
       "last                NaN          NaN  2020-12-18 00:00:00   \n",
       "mean        2613.245652          NaN                  NaN   \n",
       "std         4385.066535          NaN                  NaN   \n",
       "min            0.000000          NaN                  NaN   \n",
       "25%          211.050000          NaN                  NaN   \n",
       "50%          528.360000          NaN                  NaN   \n",
       "75%         3170.220000          NaN                  NaN   \n",
       "max        36115.200000          NaN                  NaN   \n",
       "\n",
       "        collections_12_mths_ex_med  policy_code application_type  \\\n",
       "count                      42390.0      42535.0            42535   \n",
       "unique                         NaN          NaN                1   \n",
       "top                            NaN          NaN       Individual   \n",
       "freq                           NaN          NaN            42535   \n",
       "first                          NaN          NaN              NaN   \n",
       "last                           NaN          NaN              NaN   \n",
       "mean                           0.0          1.0              NaN   \n",
       "std                            0.0          0.0              NaN   \n",
       "min                            0.0          1.0              NaN   \n",
       "25%                            0.0          1.0              NaN   \n",
       "50%                            0.0          1.0              NaN   \n",
       "75%                            0.0          1.0              NaN   \n",
       "max                            0.0          1.0              NaN   \n",
       "\n",
       "        acc_now_delinq  chargeoff_within_12_mths   delinq_amnt  \\\n",
       "count     42506.000000                   42390.0  42506.000000   \n",
       "unique             NaN                       NaN           NaN   \n",
       "top                NaN                       NaN           NaN   \n",
       "freq               NaN                       NaN           NaN   \n",
       "first              NaN                       NaN           NaN   \n",
       "last               NaN                       NaN           NaN   \n",
       "mean          0.000094                       0.0      0.143039   \n",
       "std           0.009700                       0.0     29.359579   \n",
       "min           0.000000                       0.0      0.000000   \n",
       "25%           0.000000                       0.0      0.000000   \n",
       "50%           0.000000                       0.0      0.000000   \n",
       "75%           0.000000                       0.0      0.000000   \n",
       "max           1.000000                       0.0   6053.000000   \n",
       "\n",
       "        pub_rec_bankruptcies     tax_liens hardship_flag debt_settlement_flag  \\\n",
       "count           41170.000000  42430.000000         42535                42535   \n",
       "unique                   NaN           NaN             1                    2   \n",
       "top                      NaN           NaN             N                    N   \n",
       "freq                     NaN           NaN         42535                42375   \n",
       "first                    NaN           NaN           NaN                  NaN   \n",
       "last                     NaN           NaN           NaN                  NaN   \n",
       "mean                0.045227      0.000024           NaN                  NaN   \n",
       "std                 0.208737      0.004855           NaN                  NaN   \n",
       "min                 0.000000      0.000000           NaN                  NaN   \n",
       "25%                 0.000000      0.000000           NaN                  NaN   \n",
       "50%                 0.000000      0.000000           NaN                  NaN   \n",
       "75%                 0.000000      0.000000           NaN                  NaN   \n",
       "max                 2.000000      1.000000           NaN                  NaN   \n",
       "\n",
       "       debt_settlement_flag_date settlement_status settlement_date  \\\n",
       "count                        160               160             160   \n",
       "unique                        65                 2              61   \n",
       "top                       17-Jun          COMPLETE          13-Sep   \n",
       "freq                          18               146               8   \n",
       "first                        NaN               NaN             NaN   \n",
       "last                         NaN               NaN             NaN   \n",
       "mean                         NaN               NaN             NaN   \n",
       "std                          NaN               NaN             NaN   \n",
       "min                          NaN               NaN             NaN   \n",
       "25%                          NaN               NaN             NaN   \n",
       "50%                          NaN               NaN             NaN   \n",
       "75%                          NaN               NaN             NaN   \n",
       "max                          NaN               NaN             NaN   \n",
       "\n",
       "        settlement_amount  settlement_percentage  settlement_term  \\\n",
       "count          160.000000             160.000000       160.000000   \n",
       "unique                NaN                    NaN              NaN   \n",
       "top                   NaN                    NaN              NaN   \n",
       "freq                  NaN                    NaN              NaN   \n",
       "first                 NaN                    NaN              NaN   \n",
       "last                  NaN                    NaN              NaN   \n",
       "mean          4270.794250              49.889875         1.262500   \n",
       "std           3119.543917              15.569143         4.142869   \n",
       "min            193.290000              10.690000         0.000000   \n",
       "25%           1842.750000              40.000000         0.000000   \n",
       "50%           3499.350000              49.970000         0.000000   \n",
       "75%           5701.100000              60.652500         0.000000   \n",
       "max          14798.200000              92.740000        24.000000   \n",
       "\n",
       "              target  \n",
       "count   42539.000000  \n",
       "unique           NaN  \n",
       "top              NaN  \n",
       "freq             NaN  \n",
       "first            NaN  \n",
       "last             NaN  \n",
       "mean        0.197913  \n",
       "std         0.398431  \n",
       "min         0.000000  \n",
       "25%         0.000000  \n",
       "50%         0.000000  \n",
       "75%         0.000000  \n",
       "max         1.000000  "
      ]
     },
     "execution_count": 144,
     "metadata": {},
     "output_type": "execute_result"
    }
   ],
   "source": [
    "df.describe(include='all')"
   ]
  },
  {
   "cell_type": "code",
   "execution_count": 145,
   "metadata": {},
   "outputs": [
    {
     "data": {
      "text/plain": [
       "desc                         0.687416\n",
       "mths_since_last_delinq       0.366934\n",
       "mths_since_last_record       0.085827\n",
       "next_pymnt_d                 0.064623\n",
       "debt_settlement_flag_date    0.003761\n",
       "settlement_status            0.003761\n",
       "settlement_date              0.003761\n",
       "settlement_amount            0.003761\n",
       "settlement_percentage        0.003761\n",
       "settlement_term              0.003761\n",
       "dtype: float64"
      ]
     },
     "execution_count": 145,
     "metadata": {},
     "output_type": "execute_result"
    }
   ],
   "source": [
    "# Percentage of non-na values for columns where the percentage of non-na values is less than 90%\n",
    "pd.options.display.max_rows = df.shape[1]\n",
    "(df.count().loc[(df.count()/len(df)) < 0.9]) / len(df)"
   ]
  },
  {
   "cell_type": "code",
   "execution_count": 146,
   "metadata": {},
   "outputs": [],
   "source": [
    "#I can probably remove all the fields with < 8% non-na.\n",
    "#Upon inspecting the description of mths_since_last_record, I can probably remove it.\n",
    "#desc may not tell us much. Let's inspect desc further later, but desc may require extensive NLP to glean insights\n",
    "\n",
    "\n",
    "## For now, let's get rid of the columns with low non-na %\n",
    "df.drop(columns=list(df.count().loc[(df.count()/len(df)) < 0.09].index), inplace=True)"
   ]
  },
  {
   "cell_type": "markdown",
   "metadata": {},
   "source": [
    "## Transforming & Inspecting Categorical Variables  <a class=\"anchor\" id=\"section_1_3\"></a>"
   ]
  },
  {
   "cell_type": "code",
   "execution_count": 147,
   "metadata": {},
   "outputs": [
    {
     "data": {
      "text/plain": [
       "Index(['term', 'int_rate', 'grade', 'sub_grade', 'emp_title', 'emp_length',\n",
       "       'home_ownership', 'verification_status', 'loan_status', 'pymnt_plan',\n",
       "       'desc', 'purpose', 'title', 'addr_state', 'revol_util',\n",
       "       'initial_list_status', 'application_type', 'hardship_flag',\n",
       "       'debt_settlement_flag'],\n",
       "      dtype='object')"
      ]
     },
     "execution_count": 147,
     "metadata": {},
     "output_type": "execute_result"
    }
   ],
   "source": [
    "#Look at 'object'-type columns.\n",
    "obj_cols = list(df.select_dtypes(include=['object']).columns)\n",
    "df.select_dtypes(include=['object']).columns"
   ]
  },
  {
   "cell_type": "code",
   "execution_count": 148,
   "metadata": {},
   "outputs": [],
   "source": [
    "#First, for the object columns, remove any trailing whitespace\n",
    "df = df.applymap(lambda x: x.strip() if isinstance(x, str) else x)"
   ]
  },
  {
   "cell_type": "code",
   "execution_count": 149,
   "metadata": {},
   "outputs": [
    {
     "data": {
      "text/plain": [
       "array(['36 months', '60 months', nan], dtype=object)"
      ]
     },
     "execution_count": 149,
     "metadata": {},
     "output_type": "execute_result"
    }
   ],
   "source": [
    "#Term\n",
    "df['term'].unique()"
   ]
  },
  {
   "cell_type": "code",
   "execution_count": 150,
   "metadata": {},
   "outputs": [
    {
     "data": {
      "text/plain": [
       "array([36., 60., nan])"
      ]
     },
     "execution_count": 150,
     "metadata": {},
     "output_type": "execute_result"
    }
   ],
   "source": [
    "#Term seems more useful as a NUMBER.\n",
    "df['term'] = df['term'].str.replace(' months', '')\n",
    "df['term'] = df['term'].astype(float)\n",
    "df['term'].unique()"
   ]
  },
  {
   "cell_type": "markdown",
   "metadata": {},
   "source": [
    "There are 2 possible values for term length. Let's see how they're distributed among the classes."
   ]
  },
  {
   "cell_type": "code",
   "execution_count": 295,
   "metadata": {},
   "outputs": [
    {
     "data": {
      "text/html": [
       "<div>\n",
       "<style scoped>\n",
       "    .dataframe tbody tr th:only-of-type {\n",
       "        vertical-align: middle;\n",
       "    }\n",
       "\n",
       "    .dataframe tbody tr th {\n",
       "        vertical-align: top;\n",
       "    }\n",
       "\n",
       "    .dataframe thead th {\n",
       "        text-align: right;\n",
       "    }\n",
       "</style>\n",
       "<table border=\"1\" class=\"dataframe\">\n",
       "  <thead>\n",
       "    <tr style=\"text-align: right;\">\n",
       "      <th>target</th>\n",
       "      <th>0</th>\n",
       "      <th>1</th>\n",
       "    </tr>\n",
       "    <tr>\n",
       "      <th>term</th>\n",
       "      <th></th>\n",
       "      <th></th>\n",
       "    </tr>\n",
       "  </thead>\n",
       "  <tbody>\n",
       "    <tr>\n",
       "      <th>36.0</th>\n",
       "      <td>25869</td>\n",
       "      <td>5665</td>\n",
       "    </tr>\n",
       "    <tr>\n",
       "      <th>60.0</th>\n",
       "      <td>8247</td>\n",
       "      <td>2754</td>\n",
       "    </tr>\n",
       "  </tbody>\n",
       "</table>\n",
       "</div>"
      ],
      "text/plain": [
       "target      0     1\n",
       "term               \n",
       "36.0    25869  5665\n",
       "60.0     8247  2754"
      ]
     },
     "execution_count": 295,
     "metadata": {},
     "output_type": "execute_result"
    }
   ],
   "source": [
    "cx = pd.crosstab(df['term'], df['target'])\n",
    "cx"
   ]
  },
  {
   "cell_type": "markdown",
   "metadata": {},
   "source": [
    "Term length seems promising as a predictor, since the frequencies of each term length is different for each class (~32% for target=0 vs ~49% for target=1). \n",
    "\n",
    "Let's perform a chi-squared test of independence to validate"
   ]
  },
  {
   "cell_type": "code",
   "execution_count": 364,
   "metadata": {},
   "outputs": [
    {
     "name": "stdout",
     "output_type": "stream",
     "text": [
      "p-value: 1.1004354508654807e-57,\n",
      " Exp: Matrix: [[25292.44020219  6241.55979781]\n",
      " [ 8823.55979781  2177.44020219]]\n"
     ]
    }
   ],
   "source": [
    "import scipy.stats\n",
    "print('p-value: {},\\n Exp: Matrix: {}'.format(stats.chi2_contingency(cx)[1], stats.chi2_contingency(cx)[3]))"
   ]
  },
  {
   "cell_type": "markdown",
   "metadata": {},
   "source": [
    "The p-value is incredibly low, meaning there is a dependence or high correlation between term length and target status."
   ]
  },
  {
   "cell_type": "markdown",
   "metadata": {},
   "source": [
    "\n",
    "\n",
    "Here's a quick inspection of our \"object\" or \"categorical\" columns."
   ]
  },
  {
   "cell_type": "code",
   "execution_count": 151,
   "metadata": {},
   "outputs": [
    {
     "name": "stdout",
     "output_type": "stream",
     "text": [
      "----------- COLUMN: term, VALS: [36. 60. nan] --------- \n",
      "----------- COLUMN: int_rate, VALS: ['10.65%' '15.27%' '15.96%' '13.49%' '12.69%'] --------- \n",
      "----------- COLUMN: grade, VALS: ['B' 'C' 'A' 'E' 'F'] --------- \n",
      "----------- COLUMN: sub_grade, VALS: ['B2' 'C4' 'C5' 'C1' 'B5'] --------- \n",
      "----------- COLUMN: emp_title, VALS: [nan 'Ryder' 'AIR RESOURCES BOARD' 'University Medical Group'\n",
      " 'Veolia Transportaton'] --------- \n",
      "----------- COLUMN: emp_length, VALS: ['10+ years' '< 1 year' '1 year' '3 years' '8 years'] --------- \n",
      "----------- COLUMN: home_ownership, VALS: ['RENT' 'OWN' 'MORTGAGE' 'OTHER' 'NONE'] --------- \n",
      "----------- COLUMN: verification_status, VALS: ['Verified' 'Source Verified' 'Not Verified' nan] --------- \n",
      "----------- COLUMN: loan_status, VALS: ['Fully Paid' 'Charged Off'\n",
      " 'Does not meet the credit policy. Status:Fully Paid'\n",
      " 'Does not meet the credit policy. Status:Charged Off' nan] --------- \n",
      "----------- COLUMN: pymnt_plan, VALS: ['n' nan] --------- \n",
      "----------- COLUMN: desc, VALS: ['Borrower added on 12/22/11 > I need to upgrade my business technologies.<br>'\n",
      " 'Borrower added on 12/22/11 > I plan to use this money to finance the motorcycle i am looking at. I plan to have it paid off as soon as possible/when i sell my old bike. I only need this money because the deal im looking at is to good to pass up.<br><br>  Borrower added on 12/22/11 > I plan to use this money to finance the motorcycle i am looking at. I plan to have it paid off as soon as possible/when i sell my old bike.I only need this money because the deal im looking at is to good to pass up. I have finished college with an associates degree in business and its takingmeplaces<br>'\n",
      " nan\n",
      " \"Borrower added on 12/21/11 > to pay for property tax (borrow from friend, need to pay back) & central A/C need to be replace. I'm very sorry to let my loan expired last time.<br>\"\n",
      " \"Borrower added on 12/21/11 > I plan on combining three large interest bills together and freeing up some extra each month to pay toward other bills.  I've always been a good payor but have found myself needing to make adjustments to my budget due to a medical scare. My job is very stable, I love it.<br>\"] --------- \n",
      "----------- COLUMN: purpose, VALS: ['credit_card' 'car' 'small_business' 'other' 'wedding'] --------- \n",
      "----------- COLUMN: title, VALS: ['Computer' 'bike' 'real estate business' 'personel' 'Personal'] --------- \n",
      "----------- COLUMN: addr_state, VALS: ['AZ' 'GA' 'IL' 'CA' 'OR'] --------- \n",
      "----------- COLUMN: revol_util, VALS: ['83.70%' '9.40%' '98.50%' '21%' '53.90%'] --------- \n",
      "----------- COLUMN: initial_list_status, VALS: ['f' nan] --------- \n",
      "----------- COLUMN: application_type, VALS: ['Individual' nan] --------- \n",
      "----------- COLUMN: hardship_flag, VALS: ['N' nan] --------- \n",
      "----------- COLUMN: debt_settlement_flag, VALS: ['N' 'Y' nan] --------- \n"
     ]
    }
   ],
   "source": [
    "# Quick inspection of \"object\" columns. See what we're dealing with.\n",
    "for col in obj_cols:\n",
    "    print(\"----------- COLUMN: {}, VALS: {} --------- \".format(col, df[col].unique()[:5]))"
   ]
  },
  {
   "cell_type": "code",
   "execution_count": 152,
   "metadata": {},
   "outputs": [],
   "source": [
    "# Grade and Subgrade\n",
    "grade = df['grade'].dropna().unique()\n",
    "grade.sort()\n",
    "for i,n in enumerate(grade):\n",
    "    df['grade'].replace(to_replace=n, value=i, inplace=True)\n",
    "\n",
    "subgrade = df['sub_grade'].dropna().unique()\n",
    "subgrade.sort()\n",
    "for i,n in enumerate(subgrade):\n",
    "    df['sub_grade'].replace(to_replace=n, value=i, inplace=True)"
   ]
  },
  {
   "cell_type": "markdown",
   "metadata": {},
   "source": [
    "Grade and sub_grade are redundant"
   ]
  },
  {
   "cell_type": "code",
   "execution_count": 289,
   "metadata": {},
   "outputs": [
    {
     "data": {
      "text/plain": [
       "<matplotlib.axes._subplots.AxesSubplot at 0x7fa9e41e0190>"
      ]
     },
     "execution_count": 289,
     "metadata": {},
     "output_type": "execute_result"
    },
    {
     "data": {
      "image/png": "[encoded data removed]",
      "text/plain": [
       "<Figure size 432x288 with 1 Axes>"
      ]
     },
     "metadata": {
      "needs_background": "light"
     },
     "output_type": "display_data"
    }
   ],
   "source": [
    "sns.boxplot(x='target', y='sub_grade', data=df)"
   ]
  },
  {
   "cell_type": "code",
   "execution_count": 290,
   "metadata": {},
   "outputs": [
    {
     "data": {
      "text/plain": [
       "<matplotlib.axes._subplots.AxesSubplot at 0x7fa9d8be8280>"
      ]
     },
     "execution_count": 290,
     "metadata": {},
     "output_type": "execute_result"
    },
    {
     "data": {
      "image/png": "[encoded data removed]",
      "text/plain": [
       "<Figure size 432x288 with 1 Axes>"
      ]
     },
     "metadata": {
      "needs_background": "light"
     },
     "output_type": "display_data"
    }
   ],
   "source": [
    "sns.boxplot(x='target', y='grade', data=df)"
   ]
  },
  {
   "cell_type": "markdown",
   "metadata": {},
   "source": [
    "Both grade and sub_grade seem like promising predictors, since there seems to be a noticeable difference in the grades (lower grade/subgrade = better).\n",
    "\n",
    "Nevertheless, it doesn't make sense to keep both, since grade and subgrade are dependent on one another (in the original data, if the Grade = A, then the Sub_Grade could ONLY be A1-A5).\n",
    "\n",
    "Let's drop 'grade'. Sub_grade's extra values provide a bit more nuance."
   ]
  },
  {
   "cell_type": "code",
   "execution_count": 297,
   "metadata": {},
   "outputs": [],
   "source": [
    "df.drop(columns='grade', inplace=True)"
   ]
  },
  {
   "cell_type": "code",
   "execution_count": 153,
   "metadata": {},
   "outputs": [
    {
     "data": {
      "text/plain": [
       "US Army                                                141\n",
       "Bank of America                                        115\n",
       "IBM                                                     73\n",
       "AT&T                                                    65\n",
       "Wells Fargo                                             61\n",
       "                                                      ... \n",
       "Mudrush Technology Solutions                             1\n",
       "Texas Departmenty of Family and Protective Services      1\n",
       "coastal tec                                              1\n",
       "Vintage Senior Living                                    1\n",
       "Pacific Courier                                          1\n",
       "Name: emp_title, Length: 30446, dtype: int64"
      ]
     },
     "execution_count": 153,
     "metadata": {},
     "output_type": "execute_result"
    }
   ],
   "source": [
    "#Employment status (using emp_title and emp_length)\n",
    "pd.value_counts(df['emp_title'])"
   ]
  },
  {
   "cell_type": "markdown",
   "metadata": {},
   "source": [
    "There are 30446 different employment titles, none of which give a sense of employment stability. I think emp_length gives a better picture of employment stability, so emp_title will be dropped."
   ]
  },
  {
   "cell_type": "code",
   "execution_count": 154,
   "metadata": {},
   "outputs": [],
   "source": [
    "emp_len={'< 1 year':1,'1 year':2,'2 years':3,'3 years':4,'4 years':5,'5 years':6,\n",
    "         '6 years':7,'7 years':8,'8 years':9,'9 years':10,'10+ years':11}\n",
    "df.emp_length.replace(emp_len,inplace=True)\n",
    "df.emp_length=df.emp_length.replace(np.nan,0)"
   ]
  },
  {
   "cell_type": "code",
   "execution_count": 299,
   "metadata": {},
   "outputs": [
    {
     "data": {
      "text/plain": [
       "<matplotlib.axes._subplots.AxesSubplot at 0x7fa9d365bc40>"
      ]
     },
     "execution_count": 299,
     "metadata": {},
     "output_type": "execute_result"
    },
    {
     "data": {
      "image/png": "[encoded data removed]",
      "text/plain": [
       "<Figure size 432x288 with 1 Axes>"
      ]
     },
     "metadata": {
      "needs_background": "light"
     },
     "output_type": "display_data"
    }
   ],
   "source": [
    "sns.boxplot(x='target',y='emp_length',data=df)"
   ]
  },
  {
   "cell_type": "markdown",
   "metadata": {},
   "source": [
    "emp_length does not seem too promising as a predictor. It may be dropped in feature selection."
   ]
  },
  {
   "cell_type": "code",
   "execution_count": null,
   "metadata": {},
   "outputs": [],
   "source": [
    "Int_rate"
   ]
  },
  {
   "cell_type": "code",
   "execution_count": 155,
   "metadata": {},
   "outputs": [],
   "source": [
    "df.int_rate = df.int_rate.str.replace(r'%','')\n",
    "df.int_rate = df.int_rate.astype(float)\n",
    "df.int_rate /= 100 #convert to decimal"
   ]
  },
  {
   "cell_type": "markdown",
   "metadata": {},
   "source": [
    "pymnt_plan"
   ]
  },
  {
   "cell_type": "code",
   "execution_count": 156,
   "metadata": {},
   "outputs": [
    {
     "data": {
      "text/html": [
       "<div>\n",
       "<style scoped>\n",
       "    .dataframe tbody tr th:only-of-type {\n",
       "        vertical-align: middle;\n",
       "    }\n",
       "\n",
       "    .dataframe tbody tr th {\n",
       "        vertical-align: top;\n",
       "    }\n",
       "\n",
       "    .dataframe thead th {\n",
       "        text-align: right;\n",
       "    }\n",
       "</style>\n",
       "<table border=\"1\" class=\"dataframe\">\n",
       "  <thead>\n",
       "    <tr style=\"text-align: right;\">\n",
       "      <th></th>\n",
       "      <th>pymnt_plan</th>\n",
       "    </tr>\n",
       "  </thead>\n",
       "  <tbody>\n",
       "    <tr>\n",
       "      <th>n</th>\n",
       "      <td>42535</td>\n",
       "    </tr>\n",
       "  </tbody>\n",
       "</table>\n",
       "</div>"
      ],
      "text/plain": [
       "   pymnt_plan\n",
       "n       42535"
      ]
     },
     "execution_count": 156,
     "metadata": {},
     "output_type": "execute_result"
    }
   ],
   "source": [
    "pd.value_counts(df.pymnt_plan).to_frame()"
   ]
  },
  {
   "cell_type": "markdown",
   "metadata": {},
   "source": [
    "pymnt_plan is supposed to be an indicator of whether a payment plan was made. However, 99.99% of the values are all the same. I'm not sure if this is informative. I will remove pymnt_plan"
   ]
  },
  {
   "cell_type": "code",
   "execution_count": 157,
   "metadata": {},
   "outputs": [],
   "source": [
    "df.drop(columns='pymnt_plan', inplace=True)"
   ]
  },
  {
   "cell_type": "markdown",
   "metadata": {},
   "source": [
    "home_ownership"
   ]
  },
  {
   "cell_type": "code",
   "execution_count": 158,
   "metadata": {},
   "outputs": [
    {
     "data": {
      "text/plain": [
       "RENT        20181\n",
       "MORTGAGE    18959\n",
       "OWN          3251\n",
       "OTHER         136\n",
       "NONE            8\n",
       "Name: home_ownership, dtype: int64"
      ]
     },
     "execution_count": 158,
     "metadata": {},
     "output_type": "execute_result"
    }
   ],
   "source": [
    "pd.value_counts(df['home_ownership'])"
   ]
  },
  {
   "cell_type": "markdown",
   "metadata": {},
   "source": [
    "home_ownership seems pretty informative. The values make intuitive sense, as well as the frequencies of each Home Ownership status"
   ]
  },
  {
   "cell_type": "markdown",
   "metadata": {},
   "source": [
    "<b>desc</b>\n",
    "\n",
    "desc is way too variable and wordy. There won't be anything meaningful unless we do extensive NLP. desc will be dropped."
   ]
  },
  {
   "cell_type": "code",
   "execution_count": 159,
   "metadata": {},
   "outputs": [
    {
     "data": {
      "text/plain": [
       "debt_consolidation    19776\n",
       "credit_card            5477\n",
       "other                  4425\n",
       "home_improvement       3199\n",
       "major_purchase         2311\n",
       "small_business         1992\n",
       "car                    1615\n",
       "wedding                1004\n",
       "medical                 753\n",
       "moving                  629\n",
       "house                   426\n",
       "educational             422\n",
       "vacation                400\n",
       "renewable_energy        106\n",
       "Name: purpose, dtype: int64"
      ]
     },
     "execution_count": 159,
     "metadata": {},
     "output_type": "execute_result"
    }
   ],
   "source": [
    "pd.value_counts(df['purpose'])"
   ]
  },
  {
   "cell_type": "markdown",
   "metadata": {},
   "source": [
    "keeping purpose"
   ]
  },
  {
   "cell_type": "code",
   "execution_count": 160,
   "metadata": {},
   "outputs": [
    {
     "data": {
      "text/plain": [
       "Not Verified       18758\n",
       "Verified           13471\n",
       "Source Verified    10306\n",
       "Name: verification_status, dtype: int64"
      ]
     },
     "execution_count": 160,
     "metadata": {},
     "output_type": "execute_result"
    }
   ],
   "source": [
    "pd.value_counts(df['verification_status'])"
   ]
  },
  {
   "cell_type": "markdown",
   "metadata": {},
   "source": [
    "keeping verification status"
   ]
  },
  {
   "cell_type": "code",
   "execution_count": 161,
   "metadata": {},
   "outputs": [
    {
     "data": {
      "text/plain": [
       "Debt Consolidation                           2332\n",
       "Debt Consolidation Loan                      1772\n",
       "Personal Loan                                 726\n",
       "Consolidation                                 566\n",
       "debt consolidation                            555\n",
       "                                             ... \n",
       "Front Yard Lanscaping                           1\n",
       "Paying Down Credit Card Debt                    1\n",
       "Debt payoff loan                                1\n",
       "Pay off debt, purchase used car                 1\n",
       "Just need to pay off bills in one payment       1\n",
       "Name: title, Length: 20958, dtype: int64"
      ]
     },
     "execution_count": 161,
     "metadata": {},
     "output_type": "execute_result"
    }
   ],
   "source": [
    "pd.value_counts(df['title'])"
   ]
  },
  {
   "cell_type": "markdown",
   "metadata": {},
   "source": [
    "There are almost 21K unique 'title' values, which do not follow any sort of pattern. 'title' will be dropped."
   ]
  },
  {
   "cell_type": "code",
   "execution_count": 162,
   "metadata": {},
   "outputs": [
    {
     "data": {
      "text/plain": [
       "Individual    42535\n",
       "Name: application_type, dtype: int64"
      ]
     },
     "execution_count": 162,
     "metadata": {},
     "output_type": "execute_result"
    }
   ],
   "source": [
    "pd.value_counts(df['application_type'])"
   ]
  },
  {
   "cell_type": "markdown",
   "metadata": {},
   "source": [
    "application_type has only 1 value, so it will be dropped."
   ]
  },
  {
   "cell_type": "raw",
   "metadata": {},
   "source": [
    "'revol_util' simply needs to be converted to decimals"
   ]
  },
  {
   "cell_type": "code",
   "execution_count": 163,
   "metadata": {},
   "outputs": [],
   "source": [
    "df.revol_util = df.revol_util.str.replace(r'%','')\n",
    "df.revol_util = df.revol_util.astype(float)\n",
    "df.revol_util /= 100 #convert to decimal"
   ]
  },
  {
   "cell_type": "code",
   "execution_count": 164,
   "metadata": {},
   "outputs": [
    {
     "data": {
      "text/plain": [
       "f    42535\n",
       "Name: initial_list_status, dtype: int64"
      ]
     },
     "execution_count": 164,
     "metadata": {},
     "output_type": "execute_result"
    }
   ],
   "source": [
    "pd.value_counts(df['initial_list_status'])"
   ]
  },
  {
   "cell_type": "markdown",
   "metadata": {},
   "source": [
    "initial_list_status has only one value. Will be dropped."
   ]
  },
  {
   "cell_type": "code",
   "execution_count": 165,
   "metadata": {},
   "outputs": [
    {
     "data": {
      "text/plain": [
       "N    42535\n",
       "Name: hardship_flag, dtype: int64"
      ]
     },
     "execution_count": 165,
     "metadata": {},
     "output_type": "execute_result"
    }
   ],
   "source": [
    "pd.value_counts(df['hardship_flag'])"
   ]
  },
  {
   "cell_type": "markdown",
   "metadata": {},
   "source": [
    "'hardship_flag' will be dropped; very small number of non-'N's"
   ]
  },
  {
   "cell_type": "code",
   "execution_count": 166,
   "metadata": {},
   "outputs": [
    {
     "data": {
      "text/plain": [
       "N    42375\n",
       "Y      160\n",
       "Name: debt_settlement_flag, dtype: int64"
      ]
     },
     "execution_count": 166,
     "metadata": {},
     "output_type": "execute_result"
    }
   ],
   "source": [
    "pd.value_counts(df['debt_settlement_flag'])"
   ]
  },
  {
   "cell_type": "code",
   "execution_count": 167,
   "metadata": {},
   "outputs": [
    {
     "data": {
      "text/plain": [
       "Fully Paid                                             34116\n",
       "Charged Off                                             5520\n",
       "Does not meet the credit policy. Status:Fully Paid      1988\n",
       "Does not meet the credit policy. Status:Charged Off      751\n",
       "Name: loan_status, dtype: int64"
      ]
     },
     "execution_count": 167,
     "metadata": {},
     "output_type": "execute_result"
    }
   ],
   "source": [
    "pd.value_counts(df.loc[df['debt_settlement_flag'] == 'N', 'loan_status'])"
   ]
  },
  {
   "cell_type": "code",
   "execution_count": 168,
   "metadata": {},
   "outputs": [
    {
     "data": {
      "text/plain": [
       "Charged Off                                            150\n",
       "Does not meet the credit policy. Status:Charged Off     10\n",
       "Name: loan_status, dtype: int64"
      ]
     },
     "execution_count": 168,
     "metadata": {},
     "output_type": "execute_result"
    }
   ],
   "source": [
    "pd.value_counts(df.loc[df['debt_settlement_flag'] == 'Y', 'loan_status'])"
   ]
  },
  {
   "cell_type": "markdown",
   "metadata": {},
   "source": [
    "Even though there's a large imbalance in 'debt_settlement_flag', it appears in both types of loan_statuses. 'debt_settlement_flag' will be kept and transformed into a binary variable."
   ]
  },
  {
   "cell_type": "code",
   "execution_count": 169,
   "metadata": {},
   "outputs": [
    {
     "data": {
      "text/plain": [
       "4"
      ]
     },
     "execution_count": 169,
     "metadata": {},
     "output_type": "execute_result"
    }
   ],
   "source": [
    "len(df[pd.isnull(df['debt_settlement_flag'])]) #counting the NaN's in debt_settlement_flag"
   ]
  },
  {
   "cell_type": "markdown",
   "metadata": {},
   "source": [
    "It's a small number. Let's assume that NaN 'debt_settlement_flag' is equivalent to 'N' -- i.e. they did NOT seek a debt settlement company's help."
   ]
  },
  {
   "cell_type": "code",
   "execution_count": 170,
   "metadata": {},
   "outputs": [],
   "source": [
    "debt_settlement = {'N': 0, 'Y': 1}\n",
    "df['debt_settlement_flag'].replace(debt_settlement, inplace=True)\n",
    "df['debt_settlement_flag'].replace(np.nan, inplace=True)"
   ]
  },
  {
   "cell_type": "markdown",
   "metadata": {},
   "source": [
    "### Dropping Categorical Variables <a class=\"anchor\" id=\"section_1_3_1\"></a>\n",
    "\n",
    "Here we drop the categorical variables, as described above"
   ]
  },
  {
   "cell_type": "code",
   "execution_count": 176,
   "metadata": {},
   "outputs": [],
   "source": [
    "df.drop(['desc','loan_status', 'title','emp_title', \n",
    "         'application_type','hardship_flag', 'initial_list_status'],axis=1,inplace=True)"
   ]
  },
  {
   "cell_type": "markdown",
   "metadata": {},
   "source": [
    "## Transforming & Inspecting Numerical Features <a class=\"anchor\" id=\"section_1_4\"></a>"
   ]
  },
  {
   "cell_type": "markdown",
   "metadata": {},
   "source": [
    "### Variables that may cause leakage <a class=\"anchor\" id=\"section_1_4_1\"></a>\n",
    "\n",
    "Upon reading some of the features' descriptions, some of them may be causing target leakage, telling the training data the target variable. Specifically:\n",
    "\n",
    "* collection_recovery_fee\n",
    "* recoveries\n",
    "* total_rec_prncp\n",
    "* total_pymnt\n",
    "* total_pymnt_inv\n",
    "\n",
    "Let's first tackle these variables. 'recoveries' and 'collection_recovery_fee' are amounts that are recovered post-charge-off, which equate to a \"bad\" target variable or loan status, especially if the value > 0 dollars.\n",
    "\n",
    "Furthermore, any feature that captures a total payment received is VERY likely to be leaking data; we can definitely expect \"Fully Paid\" loans to have a higher total_pymnt.\n",
    "\n",
    "Let's see if values in these variables (that are > 0) are present in both classes. If they're present in the positive class (target = 1, or \"bad\" loan status), then that indicates target leakage.\n",
    "\n",
    "These variables seem to be telling the same information. We will drop one of them in the end, if they are both valid (i.e. both are not target leakage sources)."
   ]
  },
  {
   "cell_type": "code",
   "execution_count": 181,
   "metadata": {},
   "outputs": [
    {
     "data": {
      "text/html": [
       "<div>\n",
       "<style scoped>\n",
       "    .dataframe tbody tr th:only-of-type {\n",
       "        vertical-align: middle;\n",
       "    }\n",
       "\n",
       "    .dataframe tbody tr th {\n",
       "        vertical-align: top;\n",
       "    }\n",
       "\n",
       "    .dataframe thead th {\n",
       "        text-align: right;\n",
       "    }\n",
       "</style>\n",
       "<table border=\"1\" class=\"dataframe\">\n",
       "  <thead>\n",
       "    <tr style=\"text-align: right;\">\n",
       "      <th></th>\n",
       "      <th>target</th>\n",
       "    </tr>\n",
       "  </thead>\n",
       "  <tbody>\n",
       "    <tr>\n",
       "      <th>1</th>\n",
       "      <td>6359</td>\n",
       "    </tr>\n",
       "  </tbody>\n",
       "</table>\n",
       "</div>"
      ],
      "text/plain": [
       "   target\n",
       "1    6359"
      ]
     },
     "execution_count": 181,
     "metadata": {},
     "output_type": "execute_result"
    }
   ],
   "source": [
    "pd.value_counts(df.loc[df['recoveries'] > 0, 'target']).to_frame()"
   ]
  },
  {
   "cell_type": "code",
   "execution_count": 184,
   "metadata": {},
   "outputs": [
    {
     "data": {
      "text/html": [
       "<div>\n",
       "<style scoped>\n",
       "    .dataframe tbody tr th:only-of-type {\n",
       "        vertical-align: middle;\n",
       "    }\n",
       "\n",
       "    .dataframe tbody tr th {\n",
       "        vertical-align: top;\n",
       "    }\n",
       "\n",
       "    .dataframe thead th {\n",
       "        text-align: right;\n",
       "    }\n",
       "</style>\n",
       "<table border=\"1\" class=\"dataframe\">\n",
       "  <thead>\n",
       "    <tr style=\"text-align: right;\">\n",
       "      <th></th>\n",
       "      <th>target</th>\n",
       "    </tr>\n",
       "  </thead>\n",
       "  <tbody>\n",
       "    <tr>\n",
       "      <th>0</th>\n",
       "      <td>34116</td>\n",
       "    </tr>\n",
       "    <tr>\n",
       "      <th>1</th>\n",
       "      <td>2060</td>\n",
       "    </tr>\n",
       "  </tbody>\n",
       "</table>\n",
       "</div>"
      ],
      "text/plain": [
       "   target\n",
       "0   34116\n",
       "1    2060"
      ]
     },
     "execution_count": 184,
     "metadata": {},
     "output_type": "execute_result"
    }
   ],
   "source": [
    "pd.value_counts(df.loc[df['recoveries'] == 0, 'target']).to_frame()"
   ]
  },
  {
   "cell_type": "code",
   "execution_count": 185,
   "metadata": {},
   "outputs": [
    {
     "data": {
      "text/html": [
       "<div>\n",
       "<style scoped>\n",
       "    .dataframe tbody tr th:only-of-type {\n",
       "        vertical-align: middle;\n",
       "    }\n",
       "\n",
       "    .dataframe tbody tr th {\n",
       "        vertical-align: top;\n",
       "    }\n",
       "\n",
       "    .dataframe thead th {\n",
       "        text-align: right;\n",
       "    }\n",
       "</style>\n",
       "<table border=\"1\" class=\"dataframe\">\n",
       "  <thead>\n",
       "    <tr style=\"text-align: right;\">\n",
       "      <th></th>\n",
       "      <th>target</th>\n",
       "    </tr>\n",
       "  </thead>\n",
       "  <tbody>\n",
       "    <tr>\n",
       "      <th>1</th>\n",
       "      <td>4329</td>\n",
       "    </tr>\n",
       "  </tbody>\n",
       "</table>\n",
       "</div>"
      ],
      "text/plain": [
       "   target\n",
       "1    4329"
      ]
     },
     "execution_count": 185,
     "metadata": {},
     "output_type": "execute_result"
    }
   ],
   "source": [
    "pd.value_counts(df.loc[df['collection_recovery_fee'] > 0, 'target']).to_frame()"
   ]
  },
  {
   "cell_type": "code",
   "execution_count": 187,
   "metadata": {},
   "outputs": [
    {
     "data": {
      "text/html": [
       "<div>\n",
       "<style scoped>\n",
       "    .dataframe tbody tr th:only-of-type {\n",
       "        vertical-align: middle;\n",
       "    }\n",
       "\n",
       "    .dataframe tbody tr th {\n",
       "        vertical-align: top;\n",
       "    }\n",
       "\n",
       "    .dataframe thead th {\n",
       "        text-align: right;\n",
       "    }\n",
       "</style>\n",
       "<table border=\"1\" class=\"dataframe\">\n",
       "  <thead>\n",
       "    <tr style=\"text-align: right;\">\n",
       "      <th></th>\n",
       "      <th>target</th>\n",
       "    </tr>\n",
       "  </thead>\n",
       "  <tbody>\n",
       "    <tr>\n",
       "      <th>0</th>\n",
       "      <td>34116</td>\n",
       "    </tr>\n",
       "    <tr>\n",
       "      <th>1</th>\n",
       "      <td>4090</td>\n",
       "    </tr>\n",
       "  </tbody>\n",
       "</table>\n",
       "</div>"
      ],
      "text/plain": [
       "   target\n",
       "0   34116\n",
       "1    4090"
      ]
     },
     "execution_count": 187,
     "metadata": {},
     "output_type": "execute_result"
    }
   ],
   "source": [
    "pd.value_counts(df.loc[df['collection_recovery_fee'] == 0, 'target']).to_frame()"
   ]
  },
  {
   "cell_type": "markdown",
   "metadata": {},
   "source": [
    "Both variables, when their values > 0, were only populated for the positive class. This will lead to a deceptively optimistic model. This makes sense, since this variable would come AFTER a loan was charged off.\n",
    "\n",
    "Because of the target leakage, these variables will be dropped."
   ]
  },
  {
   "cell_type": "code",
   "execution_count": null,
   "metadata": {},
   "outputs": [],
   "source": [
    "df.drop(['collection_recovery_fee', 'recoveries'], axis=1, inplace=True)"
   ]
  },
  {
   "cell_type": "code",
   "execution_count": 389,
   "metadata": {},
   "outputs": [],
   "source": [
    "df.drop(columns='total_rec_prncp', inplace=True)"
   ]
  },
  {
   "cell_type": "code",
   "execution_count": 399,
   "metadata": {},
   "outputs": [],
   "source": [
    "df.drop(columns=['total_pymnt', 'total_pymnt_inv'], inplace=True)"
   ]
  },
  {
   "cell_type": "markdown",
   "metadata": {},
   "source": [
    "### 'Months Since' Variables <a class=\"anchor\" id=\"section_1_4_2\"></a>\n",
    "\n",
    "These variables record a time since an event happened:\n",
    "* mths_since_last_delinq\n",
    "\n",
    "If these have NaN's, that implies that inquiries/delinquencies/collections have not happened. We cannot convert NaN's to 0, since that implies a very recent event (in this case, delinquency).\n",
    "\n",
    "Let's change 'mths_since_last_delinq' to a binary variable if there are enough NaNs. This new variable will indicate whether that person has had a delinquency, rather than time since last delinquency."
   ]
  },
  {
   "cell_type": "code",
   "execution_count": 204,
   "metadata": {},
   "outputs": [
    {
     "data": {
      "text/plain": [
       "array([ nan,  35.,  38.,  61.,   8.,  20.,  18.,  68.,  45.,  48.,  41.,\n",
       "        40.,  74.,  25.,  53.,  39.,  10.,  26.,  56.,  77.,  28.,  52.,\n",
       "        24.,  16.,  60.,  54.,  23.,   9.,  11.,  13.,  65.,  19.,  80.,\n",
       "        22.,  59.,  79.,  44.,  64.,  57.,  14.,  63.,  49.,  15.,  73.,\n",
       "        70.,  29.,  51.,   5.,  75.,  55.,   2.,  30.,  47.,  33.,  69.,\n",
       "         4.,  43.,  21.,  27.,  46.,  81.,  78.,  82.,  31.,  76.,  62.,\n",
       "        72.,  42.,  50.,   3.,  12.,  67.,  36.,  34.,  58.,  17.,  71.,\n",
       "        66.,  32.,   6.,  37.,   7.,   1.,  83.,  86., 115.,  96., 103.,\n",
       "       120., 106.,  89., 107.,  85.,  97.,  95.,   0.])"
      ]
     },
     "execution_count": 204,
     "metadata": {},
     "output_type": "execute_result"
    }
   ],
   "source": [
    "df['mths_since_last_delinq'].unique() #checking to see if NaNs exist"
   ]
  },
  {
   "cell_type": "code",
   "execution_count": 205,
   "metadata": {},
   "outputs": [
    {
     "data": {
      "text/plain": [
       "26930"
      ]
     },
     "execution_count": 205,
     "metadata": {},
     "output_type": "execute_result"
    }
   ],
   "source": [
    "len(df[pd.isnull(df['mths_since_last_delinq'])]) #How many NaNs?"
   ]
  },
  {
   "cell_type": "code",
   "execution_count": 207,
   "metadata": {},
   "outputs": [],
   "source": [
    "#changing to binary and removing original variable\n",
    "df.loc[(df.mths_since_last_delinq.notnull()),'delinq'] = 1\n",
    "df.loc[(df.mths_since_last_delinq.isnull()),'delinq'] = 0\n",
    "df.drop(columns='mths_since_last_delinq', inplace=True)"
   ]
  },
  {
   "cell_type": "code",
   "execution_count": 208,
   "metadata": {},
   "outputs": [
    {
     "data": {
      "text/plain": [
       "Index(['loan_amnt', 'funded_amnt', 'funded_amnt_inv', 'term', 'int_rate',\n",
       "       'installment', 'grade', 'sub_grade', 'emp_length', 'annual_inc', 'dti',\n",
       "       'delinq_2yrs', 'inq_last_6mths', 'open_acc', 'pub_rec', 'revol_bal',\n",
       "       'revol_util', 'total_acc', 'out_prncp', 'out_prncp_inv', 'total_pymnt',\n",
       "       'total_pymnt_inv', 'total_rec_prncp', 'total_rec_int',\n",
       "       'total_rec_late_fee', 'last_pymnt_amnt', 'collections_12_mths_ex_med',\n",
       "       'policy_code', 'acc_now_delinq', 'chargeoff_within_12_mths',\n",
       "       'delinq_amnt', 'pub_rec_bankruptcies', 'tax_liens',\n",
       "       'debt_settlement_flag', 'target', 'delinq'],\n",
       "      dtype='object')"
      ]
     },
     "execution_count": 208,
     "metadata": {},
     "output_type": "execute_result"
    }
   ],
   "source": [
    "df.select_dtypes(include=['float', 'int']).columns"
   ]
  },
  {
   "cell_type": "code",
   "execution_count": 216,
   "metadata": {},
   "outputs": [
    {
     "name": "stdout",
     "output_type": "stream",
     "text": [
      "<class 'pandas.core.frame.DataFrame'>\n",
      "RangeIndex: 42539 entries, 0 to 42538\n",
      "Data columns (total 36 columns):\n",
      " #   Column                      Non-Null Count  Dtype  \n",
      "---  ------                      --------------  -----  \n",
      " 0   loan_amnt                   42535 non-null  float64\n",
      " 1   funded_amnt                 42535 non-null  float64\n",
      " 2   funded_amnt_inv             42535 non-null  float64\n",
      " 3   term                        42535 non-null  float64\n",
      " 4   int_rate                    42535 non-null  float64\n",
      " 5   installment                 42535 non-null  float64\n",
      " 6   grade                       42535 non-null  float64\n",
      " 7   sub_grade                   42535 non-null  float64\n",
      " 8   emp_length                  42539 non-null  float64\n",
      " 9   annual_inc                  42531 non-null  float64\n",
      " 10  dti                         42535 non-null  float64\n",
      " 11  delinq_2yrs                 42506 non-null  float64\n",
      " 12  inq_last_6mths              42506 non-null  float64\n",
      " 13  open_acc                    42506 non-null  float64\n",
      " 14  pub_rec                     42506 non-null  float64\n",
      " 15  revol_bal                   42535 non-null  float64\n",
      " 16  revol_util                  42445 non-null  float64\n",
      " 17  total_acc                   42506 non-null  float64\n",
      " 18  out_prncp                   42535 non-null  float64\n",
      " 19  out_prncp_inv               42535 non-null  float64\n",
      " 20  total_pymnt                 42535 non-null  float64\n",
      " 21  total_pymnt_inv             42535 non-null  float64\n",
      " 22  total_rec_prncp             42535 non-null  float64\n",
      " 23  total_rec_int               42535 non-null  float64\n",
      " 24  total_rec_late_fee          42535 non-null  float64\n",
      " 25  last_pymnt_amnt             42535 non-null  float64\n",
      " 26  collections_12_mths_ex_med  42390 non-null  float64\n",
      " 27  policy_code                 42535 non-null  float64\n",
      " 28  acc_now_delinq              42506 non-null  float64\n",
      " 29  chargeoff_within_12_mths    42390 non-null  float64\n",
      " 30  delinq_amnt                 42506 non-null  float64\n",
      " 31  pub_rec_bankruptcies        41170 non-null  float64\n",
      " 32  tax_liens                   42430 non-null  float64\n",
      " 33  debt_settlement_flag        42539 non-null  float64\n",
      " 34  target                      42539 non-null  int64  \n",
      " 35  delinq                      42539 non-null  float64\n",
      "dtypes: float64(35), int64(1)\n",
      "memory usage: 11.7 MB\n"
     ]
    }
   ],
   "source": [
    "df.select_dtypes(include=['float', 'int']).info()"
   ]
  },
  {
   "cell_type": "code",
   "execution_count": 214,
   "metadata": {},
   "outputs": [
    {
     "name": "stdout",
     "output_type": "stream",
     "text": [
      "<class 'pandas.core.frame.DataFrame'>\n",
      "RangeIndex: 42539 entries, 0 to 42538\n",
      "Data columns (total 4 columns):\n",
      " #   Column               Non-Null Count  Dtype \n",
      "---  ------               --------------  ----- \n",
      " 0   home_ownership       42535 non-null  object\n",
      " 1   verification_status  42535 non-null  object\n",
      " 2   purpose              42535 non-null  object\n",
      " 3   addr_state           42535 non-null  object\n",
      "dtypes: object(4)\n",
      "memory usage: 1.3+ MB\n"
     ]
    }
   ],
   "source": [
    "df.select_dtypes(include=['object']).info()"
   ]
  },
  {
   "cell_type": "markdown",
   "metadata": {},
   "source": [
    "# ASIDE: Null rows <a class=\"anchor\" id=\"section_1_4_3\"></a>\n",
    "\n",
    "At this point, I am noticing that most variables have 4 NaN values. Are they the same rows?"
   ]
  },
  {
   "cell_type": "code",
   "execution_count": 219,
   "metadata": {},
   "outputs": [
    {
     "data": {
      "text/html": [
       "<div>\n",
       "<style scoped>\n",
       "    .dataframe tbody tr th:only-of-type {\n",
       "        vertical-align: middle;\n",
       "    }\n",
       "\n",
       "    .dataframe tbody tr th {\n",
       "        vertical-align: top;\n",
       "    }\n",
       "\n",
       "    .dataframe thead th {\n",
       "        text-align: right;\n",
       "    }\n",
       "</style>\n",
       "<table border=\"1\" class=\"dataframe\">\n",
       "  <thead>\n",
       "    <tr style=\"text-align: right;\">\n",
       "      <th></th>\n",
       "      <th>loan_amnt</th>\n",
       "      <th>funded_amnt</th>\n",
       "      <th>funded_amnt_inv</th>\n",
       "      <th>term</th>\n",
       "      <th>int_rate</th>\n",
       "      <th>installment</th>\n",
       "      <th>grade</th>\n",
       "      <th>sub_grade</th>\n",
       "      <th>emp_length</th>\n",
       "      <th>home_ownership</th>\n",
       "      <th>annual_inc</th>\n",
       "      <th>verification_status</th>\n",
       "      <th>issue_d</th>\n",
       "      <th>purpose</th>\n",
       "      <th>addr_state</th>\n",
       "      <th>dti</th>\n",
       "      <th>delinq_2yrs</th>\n",
       "      <th>earliest_cr_line</th>\n",
       "      <th>inq_last_6mths</th>\n",
       "      <th>open_acc</th>\n",
       "      <th>pub_rec</th>\n",
       "      <th>revol_bal</th>\n",
       "      <th>revol_util</th>\n",
       "      <th>total_acc</th>\n",
       "      <th>out_prncp</th>\n",
       "      <th>out_prncp_inv</th>\n",
       "      <th>total_pymnt</th>\n",
       "      <th>total_pymnt_inv</th>\n",
       "      <th>total_rec_prncp</th>\n",
       "      <th>total_rec_int</th>\n",
       "      <th>total_rec_late_fee</th>\n",
       "      <th>last_pymnt_d</th>\n",
       "      <th>last_pymnt_amnt</th>\n",
       "      <th>last_credit_pull_d</th>\n",
       "      <th>collections_12_mths_ex_med</th>\n",
       "      <th>policy_code</th>\n",
       "      <th>acc_now_delinq</th>\n",
       "      <th>chargeoff_within_12_mths</th>\n",
       "      <th>delinq_amnt</th>\n",
       "      <th>pub_rec_bankruptcies</th>\n",
       "      <th>tax_liens</th>\n",
       "      <th>debt_settlement_flag</th>\n",
       "      <th>target</th>\n",
       "      <th>delinq</th>\n",
       "    </tr>\n",
       "  </thead>\n",
       "  <tbody>\n",
       "    <tr>\n",
       "      <th>26</th>\n",
       "      <td>15000.0</td>\n",
       "      <td>15000.0</td>\n",
       "      <td>8725.0</td>\n",
       "      <td>36.0</td>\n",
       "      <td>0.1427</td>\n",
       "      <td>514.64</td>\n",
       "      <td>2.0</td>\n",
       "      <td>11.0</td>\n",
       "      <td>10.0</td>\n",
       "      <td>RENT</td>\n",
       "      <td>60000.0</td>\n",
       "      <td>Not Verified</td>\n",
       "      <td>2020-12-11</td>\n",
       "      <td>debt_consolidation</td>\n",
       "      <td>NY</td>\n",
       "      <td>15.22</td>\n",
       "      <td>0.0</td>\n",
       "      <td>2020-10-03</td>\n",
       "      <td>1.0</td>\n",
       "      <td>7.0</td>\n",
       "      <td>0.0</td>\n",
       "      <td>5872.0</td>\n",
       "      <td>0.576</td>\n",
       "      <td>11.0</td>\n",
       "      <td>0.0</td>\n",
       "      <td>0.0</td>\n",
       "      <td>0.00000</td>\n",
       "      <td>0.00</td>\n",
       "      <td>0.0</td>\n",
       "      <td>0.00</td>\n",
       "      <td>0.0</td>\n",
       "      <td>NaT</td>\n",
       "      <td>0.00</td>\n",
       "      <td>2020-02-19</td>\n",
       "      <td>0.0</td>\n",
       "      <td>1.0</td>\n",
       "      <td>0.0</td>\n",
       "      <td>0.0</td>\n",
       "      <td>0.0</td>\n",
       "      <td>0.0</td>\n",
       "      <td>0.0</td>\n",
       "      <td>0.0</td>\n",
       "      <td>1</td>\n",
       "      <td>0.0</td>\n",
       "    </tr>\n",
       "    <tr>\n",
       "      <th>2731</th>\n",
       "      <td>8000.0</td>\n",
       "      <td>8000.0</td>\n",
       "      <td>3975.0</td>\n",
       "      <td>36.0</td>\n",
       "      <td>0.1465</td>\n",
       "      <td>275.96</td>\n",
       "      <td>2.0</td>\n",
       "      <td>12.0</td>\n",
       "      <td>11.0</td>\n",
       "      <td>RENT</td>\n",
       "      <td>72000.0</td>\n",
       "      <td>Source Verified</td>\n",
       "      <td>2020-11-11</td>\n",
       "      <td>debt_consolidation</td>\n",
       "      <td>NC</td>\n",
       "      <td>22.28</td>\n",
       "      <td>0.0</td>\n",
       "      <td>1997-11-01</td>\n",
       "      <td>1.0</td>\n",
       "      <td>10.0</td>\n",
       "      <td>0.0</td>\n",
       "      <td>32955.0</td>\n",
       "      <td>0.858</td>\n",
       "      <td>31.0</td>\n",
       "      <td>0.0</td>\n",
       "      <td>0.0</td>\n",
       "      <td>0.00000</td>\n",
       "      <td>0.00</td>\n",
       "      <td>0.0</td>\n",
       "      <td>0.00</td>\n",
       "      <td>0.0</td>\n",
       "      <td>NaT</td>\n",
       "      <td>0.00</td>\n",
       "      <td>2020-07-19</td>\n",
       "      <td>0.0</td>\n",
       "      <td>1.0</td>\n",
       "      <td>0.0</td>\n",
       "      <td>0.0</td>\n",
       "      <td>0.0</td>\n",
       "      <td>0.0</td>\n",
       "      <td>0.0</td>\n",
       "      <td>0.0</td>\n",
       "      <td>1</td>\n",
       "      <td>0.0</td>\n",
       "    </tr>\n",
       "    <tr>\n",
       "      <th>3577</th>\n",
       "      <td>8000.0</td>\n",
       "      <td>8000.0</td>\n",
       "      <td>8000.0</td>\n",
       "      <td>36.0</td>\n",
       "      <td>0.1942</td>\n",
       "      <td>294.95</td>\n",
       "      <td>4.0</td>\n",
       "      <td>22.0</td>\n",
       "      <td>4.0</td>\n",
       "      <td>RENT</td>\n",
       "      <td>30000.0</td>\n",
       "      <td>Source Verified</td>\n",
       "      <td>2020-11-11</td>\n",
       "      <td>debt_consolidation</td>\n",
       "      <td>IL</td>\n",
       "      <td>18.56</td>\n",
       "      <td>0.0</td>\n",
       "      <td>1992-09-01</td>\n",
       "      <td>1.0</td>\n",
       "      <td>6.0</td>\n",
       "      <td>0.0</td>\n",
       "      <td>0.0</td>\n",
       "      <td>NaN</td>\n",
       "      <td>10.0</td>\n",
       "      <td>0.0</td>\n",
       "      <td>0.0</td>\n",
       "      <td>10706.01082</td>\n",
       "      <td>10706.01</td>\n",
       "      <td>8000.0</td>\n",
       "      <td>2691.01</td>\n",
       "      <td>15.0</td>\n",
       "      <td>2020-12-14</td>\n",
       "      <td>76.83</td>\n",
       "      <td>2020-07-19</td>\n",
       "      <td>0.0</td>\n",
       "      <td>1.0</td>\n",
       "      <td>0.0</td>\n",
       "      <td>0.0</td>\n",
       "      <td>0.0</td>\n",
       "      <td>0.0</td>\n",
       "      <td>0.0</td>\n",
       "      <td>0.0</td>\n",
       "      <td>0</td>\n",
       "      <td>0.0</td>\n",
       "    </tr>\n",
       "    <tr>\n",
       "      <th>3625</th>\n",
       "      <td>6400.0</td>\n",
       "      <td>6400.0</td>\n",
       "      <td>6400.0</td>\n",
       "      <td>60.0</td>\n",
       "      <td>0.1825</td>\n",
       "      <td>163.39</td>\n",
       "      <td>3.0</td>\n",
       "      <td>19.0</td>\n",
       "      <td>6.0</td>\n",
       "      <td>RENT</td>\n",
       "      <td>33000.0</td>\n",
       "      <td>Source Verified</td>\n",
       "      <td>2020-11-11</td>\n",
       "      <td>major_purchase</td>\n",
       "      <td>OH</td>\n",
       "      <td>9.05</td>\n",
       "      <td>0.0</td>\n",
       "      <td>2020-06-06</td>\n",
       "      <td>3.0</td>\n",
       "      <td>4.0</td>\n",
       "      <td>0.0</td>\n",
       "      <td>2237.0</td>\n",
       "      <td>0.605</td>\n",
       "      <td>6.0</td>\n",
       "      <td>0.0</td>\n",
       "      <td>0.0</td>\n",
       "      <td>366.75000</td>\n",
       "      <td>366.75</td>\n",
       "      <td>0.0</td>\n",
       "      <td>0.00</td>\n",
       "      <td>0.0</td>\n",
       "      <td>NaT</td>\n",
       "      <td>0.00</td>\n",
       "      <td>2020-10-16</td>\n",
       "      <td>0.0</td>\n",
       "      <td>1.0</td>\n",
       "      <td>0.0</td>\n",
       "      <td>0.0</td>\n",
       "      <td>0.0</td>\n",
       "      <td>0.0</td>\n",
       "      <td>0.0</td>\n",
       "      <td>0.0</td>\n",
       "      <td>1</td>\n",
       "      <td>1.0</td>\n",
       "    </tr>\n",
       "    <tr>\n",
       "      <th>3998</th>\n",
       "      <td>18000.0</td>\n",
       "      <td>18000.0</td>\n",
       "      <td>18000.0</td>\n",
       "      <td>60.0</td>\n",
       "      <td>0.1903</td>\n",
       "      <td>467.23</td>\n",
       "      <td>4.0</td>\n",
       "      <td>21.0</td>\n",
       "      <td>5.0</td>\n",
       "      <td>RENT</td>\n",
       "      <td>36000.0</td>\n",
       "      <td>Verified</td>\n",
       "      <td>2020-11-11</td>\n",
       "      <td>debt_consolidation</td>\n",
       "      <td>CT</td>\n",
       "      <td>5.43</td>\n",
       "      <td>0.0</td>\n",
       "      <td>2020-08-08</td>\n",
       "      <td>1.0</td>\n",
       "      <td>13.0</td>\n",
       "      <td>0.0</td>\n",
       "      <td>4545.0</td>\n",
       "      <td>0.186</td>\n",
       "      <td>17.0</td>\n",
       "      <td>0.0</td>\n",
       "      <td>0.0</td>\n",
       "      <td>0.00000</td>\n",
       "      <td>0.00</td>\n",
       "      <td>0.0</td>\n",
       "      <td>0.00</td>\n",
       "      <td>0.0</td>\n",
       "      <td>NaT</td>\n",
       "      <td>0.00</td>\n",
       "      <td>2020-12-18</td>\n",
       "      <td>0.0</td>\n",
       "      <td>1.0</td>\n",
       "      <td>0.0</td>\n",
       "      <td>0.0</td>\n",
       "      <td>0.0</td>\n",
       "      <td>0.0</td>\n",
       "      <td>0.0</td>\n",
       "      <td>0.0</td>\n",
       "      <td>1</td>\n",
       "      <td>0.0</td>\n",
       "    </tr>\n",
       "    <tr>\n",
       "      <th>...</th>\n",
       "      <td>...</td>\n",
       "      <td>...</td>\n",
       "      <td>...</td>\n",
       "      <td>...</td>\n",
       "      <td>...</td>\n",
       "      <td>...</td>\n",
       "      <td>...</td>\n",
       "      <td>...</td>\n",
       "      <td>...</td>\n",
       "      <td>...</td>\n",
       "      <td>...</td>\n",
       "      <td>...</td>\n",
       "      <td>...</td>\n",
       "      <td>...</td>\n",
       "      <td>...</td>\n",
       "      <td>...</td>\n",
       "      <td>...</td>\n",
       "      <td>...</td>\n",
       "      <td>...</td>\n",
       "      <td>...</td>\n",
       "      <td>...</td>\n",
       "      <td>...</td>\n",
       "      <td>...</td>\n",
       "      <td>...</td>\n",
       "      <td>...</td>\n",
       "      <td>...</td>\n",
       "      <td>...</td>\n",
       "      <td>...</td>\n",
       "      <td>...</td>\n",
       "      <td>...</td>\n",
       "      <td>...</td>\n",
       "      <td>...</td>\n",
       "      <td>...</td>\n",
       "      <td>...</td>\n",
       "      <td>...</td>\n",
       "      <td>...</td>\n",
       "      <td>...</td>\n",
       "      <td>...</td>\n",
       "      <td>...</td>\n",
       "      <td>...</td>\n",
       "      <td>...</td>\n",
       "      <td>...</td>\n",
       "      <td>...</td>\n",
       "      <td>...</td>\n",
       "    </tr>\n",
       "    <tr>\n",
       "      <th>42534</th>\n",
       "      <td>5000.0</td>\n",
       "      <td>5000.0</td>\n",
       "      <td>0.0</td>\n",
       "      <td>36.0</td>\n",
       "      <td>0.0775</td>\n",
       "      <td>156.11</td>\n",
       "      <td>0.0</td>\n",
       "      <td>2.0</td>\n",
       "      <td>11.0</td>\n",
       "      <td>MORTGAGE</td>\n",
       "      <td>70000.0</td>\n",
       "      <td>Not Verified</td>\n",
       "      <td>2020-06-07</td>\n",
       "      <td>other</td>\n",
       "      <td>CT</td>\n",
       "      <td>8.81</td>\n",
       "      <td>NaN</td>\n",
       "      <td>NaT</td>\n",
       "      <td>NaN</td>\n",
       "      <td>NaN</td>\n",
       "      <td>NaN</td>\n",
       "      <td>0.0</td>\n",
       "      <td>NaN</td>\n",
       "      <td>NaN</td>\n",
       "      <td>0.0</td>\n",
       "      <td>0.0</td>\n",
       "      <td>5619.76209</td>\n",
       "      <td>0.00</td>\n",
       "      <td>5000.0</td>\n",
       "      <td>619.76</td>\n",
       "      <td>0.0</td>\n",
       "      <td>2020-06-10</td>\n",
       "      <td>156.39</td>\n",
       "      <td>2020-02-15</td>\n",
       "      <td>NaN</td>\n",
       "      <td>1.0</td>\n",
       "      <td>NaN</td>\n",
       "      <td>NaN</td>\n",
       "      <td>NaN</td>\n",
       "      <td>NaN</td>\n",
       "      <td>NaN</td>\n",
       "      <td>0.0</td>\n",
       "      <td>1</td>\n",
       "      <td>0.0</td>\n",
       "    </tr>\n",
       "    <tr>\n",
       "      <th>42535</th>\n",
       "      <td>NaN</td>\n",
       "      <td>NaN</td>\n",
       "      <td>NaN</td>\n",
       "      <td>NaN</td>\n",
       "      <td>NaN</td>\n",
       "      <td>NaN</td>\n",
       "      <td>NaN</td>\n",
       "      <td>NaN</td>\n",
       "      <td>0.0</td>\n",
       "      <td>NaN</td>\n",
       "      <td>NaN</td>\n",
       "      <td>NaN</td>\n",
       "      <td>NaT</td>\n",
       "      <td>NaN</td>\n",
       "      <td>NaN</td>\n",
       "      <td>NaN</td>\n",
       "      <td>NaN</td>\n",
       "      <td>NaT</td>\n",
       "      <td>NaN</td>\n",
       "      <td>NaN</td>\n",
       "      <td>NaN</td>\n",
       "      <td>NaN</td>\n",
       "      <td>NaN</td>\n",
       "      <td>NaN</td>\n",
       "      <td>NaN</td>\n",
       "      <td>NaN</td>\n",
       "      <td>NaN</td>\n",
       "      <td>NaN</td>\n",
       "      <td>NaN</td>\n",
       "      <td>NaN</td>\n",
       "      <td>NaN</td>\n",
       "      <td>NaT</td>\n",
       "      <td>NaN</td>\n",
       "      <td>NaT</td>\n",
       "      <td>NaN</td>\n",
       "      <td>NaN</td>\n",
       "      <td>NaN</td>\n",
       "      <td>NaN</td>\n",
       "      <td>NaN</td>\n",
       "      <td>NaN</td>\n",
       "      <td>NaN</td>\n",
       "      <td>0.0</td>\n",
       "      <td>0</td>\n",
       "      <td>0.0</td>\n",
       "    </tr>\n",
       "    <tr>\n",
       "      <th>42536</th>\n",
       "      <td>NaN</td>\n",
       "      <td>NaN</td>\n",
       "      <td>NaN</td>\n",
       "      <td>NaN</td>\n",
       "      <td>NaN</td>\n",
       "      <td>NaN</td>\n",
       "      <td>NaN</td>\n",
       "      <td>NaN</td>\n",
       "      <td>0.0</td>\n",
       "      <td>NaN</td>\n",
       "      <td>NaN</td>\n",
       "      <td>NaN</td>\n",
       "      <td>NaT</td>\n",
       "      <td>NaN</td>\n",
       "      <td>NaN</td>\n",
       "      <td>NaN</td>\n",
       "      <td>NaN</td>\n",
       "      <td>NaT</td>\n",
       "      <td>NaN</td>\n",
       "      <td>NaN</td>\n",
       "      <td>NaN</td>\n",
       "      <td>NaN</td>\n",
       "      <td>NaN</td>\n",
       "      <td>NaN</td>\n",
       "      <td>NaN</td>\n",
       "      <td>NaN</td>\n",
       "      <td>NaN</td>\n",
       "      <td>NaN</td>\n",
       "      <td>NaN</td>\n",
       "      <td>NaN</td>\n",
       "      <td>NaN</td>\n",
       "      <td>NaT</td>\n",
       "      <td>NaN</td>\n",
       "      <td>NaT</td>\n",
       "      <td>NaN</td>\n",
       "      <td>NaN</td>\n",
       "      <td>NaN</td>\n",
       "      <td>NaN</td>\n",
       "      <td>NaN</td>\n",
       "      <td>NaN</td>\n",
       "      <td>NaN</td>\n",
       "      <td>0.0</td>\n",
       "      <td>0</td>\n",
       "      <td>0.0</td>\n",
       "    </tr>\n",
       "    <tr>\n",
       "      <th>42537</th>\n",
       "      <td>NaN</td>\n",
       "      <td>NaN</td>\n",
       "      <td>NaN</td>\n",
       "      <td>NaN</td>\n",
       "      <td>NaN</td>\n",
       "      <td>NaN</td>\n",
       "      <td>NaN</td>\n",
       "      <td>NaN</td>\n",
       "      <td>0.0</td>\n",
       "      <td>NaN</td>\n",
       "      <td>NaN</td>\n",
       "      <td>NaN</td>\n",
       "      <td>NaT</td>\n",
       "      <td>NaN</td>\n",
       "      <td>NaN</td>\n",
       "      <td>NaN</td>\n",
       "      <td>NaN</td>\n",
       "      <td>NaT</td>\n",
       "      <td>NaN</td>\n",
       "      <td>NaN</td>\n",
       "      <td>NaN</td>\n",
       "      <td>NaN</td>\n",
       "      <td>NaN</td>\n",
       "      <td>NaN</td>\n",
       "      <td>NaN</td>\n",
       "      <td>NaN</td>\n",
       "      <td>NaN</td>\n",
       "      <td>NaN</td>\n",
       "      <td>NaN</td>\n",
       "      <td>NaN</td>\n",
       "      <td>NaN</td>\n",
       "      <td>NaT</td>\n",
       "      <td>NaN</td>\n",
       "      <td>NaT</td>\n",
       "      <td>NaN</td>\n",
       "      <td>NaN</td>\n",
       "      <td>NaN</td>\n",
       "      <td>NaN</td>\n",
       "      <td>NaN</td>\n",
       "      <td>NaN</td>\n",
       "      <td>NaN</td>\n",
       "      <td>0.0</td>\n",
       "      <td>0</td>\n",
       "      <td>0.0</td>\n",
       "    </tr>\n",
       "    <tr>\n",
       "      <th>42538</th>\n",
       "      <td>NaN</td>\n",
       "      <td>NaN</td>\n",
       "      <td>NaN</td>\n",
       "      <td>NaN</td>\n",
       "      <td>NaN</td>\n",
       "      <td>NaN</td>\n",
       "      <td>NaN</td>\n",
       "      <td>NaN</td>\n",
       "      <td>0.0</td>\n",
       "      <td>NaN</td>\n",
       "      <td>NaN</td>\n",
       "      <td>NaN</td>\n",
       "      <td>NaT</td>\n",
       "      <td>NaN</td>\n",
       "      <td>NaN</td>\n",
       "      <td>NaN</td>\n",
       "      <td>NaN</td>\n",
       "      <td>NaT</td>\n",
       "      <td>NaN</td>\n",
       "      <td>NaN</td>\n",
       "      <td>NaN</td>\n",
       "      <td>NaN</td>\n",
       "      <td>NaN</td>\n",
       "      <td>NaN</td>\n",
       "      <td>NaN</td>\n",
       "      <td>NaN</td>\n",
       "      <td>NaN</td>\n",
       "      <td>NaN</td>\n",
       "      <td>NaN</td>\n",
       "      <td>NaN</td>\n",
       "      <td>NaN</td>\n",
       "      <td>NaT</td>\n",
       "      <td>NaN</td>\n",
       "      <td>NaT</td>\n",
       "      <td>NaN</td>\n",
       "      <td>NaN</td>\n",
       "      <td>NaN</td>\n",
       "      <td>NaN</td>\n",
       "      <td>NaN</td>\n",
       "      <td>NaN</td>\n",
       "      <td>NaN</td>\n",
       "      <td>0.0</td>\n",
       "      <td>0</td>\n",
       "      <td>0.0</td>\n",
       "    </tr>\n",
       "  </tbody>\n",
       "</table>\n",
       "<p>1510 rows × 44 columns</p>\n",
       "</div>"
      ],
      "text/plain": [
       "       loan_amnt  funded_amnt  funded_amnt_inv  term  int_rate  installment  \\\n",
       "26       15000.0      15000.0           8725.0  36.0    0.1427       514.64   \n",
       "2731      8000.0       8000.0           3975.0  36.0    0.1465       275.96   \n",
       "3577      8000.0       8000.0           8000.0  36.0    0.1942       294.95   \n",
       "3625      6400.0       6400.0           6400.0  60.0    0.1825       163.39   \n",
       "3998     18000.0      18000.0          18000.0  60.0    0.1903       467.23   \n",
       "...          ...          ...              ...   ...       ...          ...   \n",
       "42534     5000.0       5000.0              0.0  36.0    0.0775       156.11   \n",
       "42535        NaN          NaN              NaN   NaN       NaN          NaN   \n",
       "42536        NaN          NaN              NaN   NaN       NaN          NaN   \n",
       "42537        NaN          NaN              NaN   NaN       NaN          NaN   \n",
       "42538        NaN          NaN              NaN   NaN       NaN          NaN   \n",
       "\n",
       "       grade  sub_grade  emp_length home_ownership  annual_inc  \\\n",
       "26       2.0       11.0        10.0           RENT     60000.0   \n",
       "2731     2.0       12.0        11.0           RENT     72000.0   \n",
       "3577     4.0       22.0         4.0           RENT     30000.0   \n",
       "3625     3.0       19.0         6.0           RENT     33000.0   \n",
       "3998     4.0       21.0         5.0           RENT     36000.0   \n",
       "...      ...        ...         ...            ...         ...   \n",
       "42534    0.0        2.0        11.0       MORTGAGE     70000.0   \n",
       "42535    NaN        NaN         0.0            NaN         NaN   \n",
       "42536    NaN        NaN         0.0            NaN         NaN   \n",
       "42537    NaN        NaN         0.0            NaN         NaN   \n",
       "42538    NaN        NaN         0.0            NaN         NaN   \n",
       "\n",
       "      verification_status    issue_d             purpose addr_state    dti  \\\n",
       "26           Not Verified 2020-12-11  debt_consolidation         NY  15.22   \n",
       "2731      Source Verified 2020-11-11  debt_consolidation         NC  22.28   \n",
       "3577      Source Verified 2020-11-11  debt_consolidation         IL  18.56   \n",
       "3625      Source Verified 2020-11-11      major_purchase         OH   9.05   \n",
       "3998             Verified 2020-11-11  debt_consolidation         CT   5.43   \n",
       "...                   ...        ...                 ...        ...    ...   \n",
       "42534        Not Verified 2020-06-07               other         CT   8.81   \n",
       "42535                 NaN        NaT                 NaN        NaN    NaN   \n",
       "42536                 NaN        NaT                 NaN        NaN    NaN   \n",
       "42537                 NaN        NaT                 NaN        NaN    NaN   \n",
       "42538                 NaN        NaT                 NaN        NaN    NaN   \n",
       "\n",
       "       delinq_2yrs earliest_cr_line  inq_last_6mths  open_acc  pub_rec  \\\n",
       "26             0.0       2020-10-03             1.0       7.0      0.0   \n",
       "2731           0.0       1997-11-01             1.0      10.0      0.0   \n",
       "3577           0.0       1992-09-01             1.0       6.0      0.0   \n",
       "3625           0.0       2020-06-06             3.0       4.0      0.0   \n",
       "3998           0.0       2020-08-08             1.0      13.0      0.0   \n",
       "...            ...              ...             ...       ...      ...   \n",
       "42534          NaN              NaT             NaN       NaN      NaN   \n",
       "42535          NaN              NaT             NaN       NaN      NaN   \n",
       "42536          NaN              NaT             NaN       NaN      NaN   \n",
       "42537          NaN              NaT             NaN       NaN      NaN   \n",
       "42538          NaN              NaT             NaN       NaN      NaN   \n",
       "\n",
       "       revol_bal  revol_util  total_acc  out_prncp  out_prncp_inv  \\\n",
       "26        5872.0       0.576       11.0        0.0            0.0   \n",
       "2731     32955.0       0.858       31.0        0.0            0.0   \n",
       "3577         0.0         NaN       10.0        0.0            0.0   \n",
       "3625      2237.0       0.605        6.0        0.0            0.0   \n",
       "3998      4545.0       0.186       17.0        0.0            0.0   \n",
       "...          ...         ...        ...        ...            ...   \n",
       "42534        0.0         NaN        NaN        0.0            0.0   \n",
       "42535        NaN         NaN        NaN        NaN            NaN   \n",
       "42536        NaN         NaN        NaN        NaN            NaN   \n",
       "42537        NaN         NaN        NaN        NaN            NaN   \n",
       "42538        NaN         NaN        NaN        NaN            NaN   \n",
       "\n",
       "       total_pymnt  total_pymnt_inv  total_rec_prncp  total_rec_int  \\\n",
       "26         0.00000             0.00              0.0           0.00   \n",
       "2731       0.00000             0.00              0.0           0.00   \n",
       "3577   10706.01082         10706.01           8000.0        2691.01   \n",
       "3625     366.75000           366.75              0.0           0.00   \n",
       "3998       0.00000             0.00              0.0           0.00   \n",
       "...            ...              ...              ...            ...   \n",
       "42534   5619.76209             0.00           5000.0         619.76   \n",
       "42535          NaN              NaN              NaN            NaN   \n",
       "42536          NaN              NaN              NaN            NaN   \n",
       "42537          NaN              NaN              NaN            NaN   \n",
       "42538          NaN              NaN              NaN            NaN   \n",
       "\n",
       "       total_rec_late_fee last_pymnt_d  last_pymnt_amnt last_credit_pull_d  \\\n",
       "26                    0.0          NaT             0.00         2020-02-19   \n",
       "2731                  0.0          NaT             0.00         2020-07-19   \n",
       "3577                 15.0   2020-12-14            76.83         2020-07-19   \n",
       "3625                  0.0          NaT             0.00         2020-10-16   \n",
       "3998                  0.0          NaT             0.00         2020-12-18   \n",
       "...                   ...          ...              ...                ...   \n",
       "42534                 0.0   2020-06-10           156.39         2020-02-15   \n",
       "42535                 NaN          NaT              NaN                NaT   \n",
       "42536                 NaN          NaT              NaN                NaT   \n",
       "42537                 NaN          NaT              NaN                NaT   \n",
       "42538                 NaN          NaT              NaN                NaT   \n",
       "\n",
       "       collections_12_mths_ex_med  policy_code  acc_now_delinq  \\\n",
       "26                            0.0          1.0             0.0   \n",
       "2731                          0.0          1.0             0.0   \n",
       "3577                          0.0          1.0             0.0   \n",
       "3625                          0.0          1.0             0.0   \n",
       "3998                          0.0          1.0             0.0   \n",
       "...                           ...          ...             ...   \n",
       "42534                         NaN          1.0             NaN   \n",
       "42535                         NaN          NaN             NaN   \n",
       "42536                         NaN          NaN             NaN   \n",
       "42537                         NaN          NaN             NaN   \n",
       "42538                         NaN          NaN             NaN   \n",
       "\n",
       "       chargeoff_within_12_mths  delinq_amnt  pub_rec_bankruptcies  tax_liens  \\\n",
       "26                          0.0          0.0                   0.0        0.0   \n",
       "2731                        0.0          0.0                   0.0        0.0   \n",
       "3577                        0.0          0.0                   0.0        0.0   \n",
       "3625                        0.0          0.0                   0.0        0.0   \n",
       "3998                        0.0          0.0                   0.0        0.0   \n",
       "...                         ...          ...                   ...        ...   \n",
       "42534                       NaN          NaN                   NaN        NaN   \n",
       "42535                       NaN          NaN                   NaN        NaN   \n",
       "42536                       NaN          NaN                   NaN        NaN   \n",
       "42537                       NaN          NaN                   NaN        NaN   \n",
       "42538                       NaN          NaN                   NaN        NaN   \n",
       "\n",
       "       debt_settlement_flag  target  delinq  \n",
       "26                      0.0       1     0.0  \n",
       "2731                    0.0       1     0.0  \n",
       "3577                    0.0       0     0.0  \n",
       "3625                    0.0       1     1.0  \n",
       "3998                    0.0       1     0.0  \n",
       "...                     ...     ...     ...  \n",
       "42534                   0.0       1     0.0  \n",
       "42535                   0.0       0     0.0  \n",
       "42536                   0.0       0     0.0  \n",
       "42537                   0.0       0     0.0  \n",
       "42538                   0.0       0     0.0  \n",
       "\n",
       "[1510 rows x 44 columns]"
      ]
     },
     "execution_count": 219,
     "metadata": {},
     "output_type": "execute_result"
    }
   ],
   "source": [
    "df[df.isnull().any(axis=1)]"
   ]
  },
  {
   "cell_type": "markdown",
   "metadata": {},
   "source": [
    "Yes; the last 4 rows are unpopulated rows. Let's get rid of them."
   ]
  },
  {
   "cell_type": "code",
   "execution_count": 223,
   "metadata": {},
   "outputs": [],
   "source": [
    "df.drop(df.tail(4).index,inplace=True)"
   ]
  },
  {
   "cell_type": "markdown",
   "metadata": {},
   "source": [
    "### Numerical Indicators and Codes <a class=\"anchor\" id=\"section_1_4_4\"></a>\n",
    "\n",
    "These numerical variables act as codes:\n",
    "* policy_code\n",
    "\n",
    "Let's change them to binary variables, assuming it's a good variable"
   ]
  },
  {
   "cell_type": "code",
   "execution_count": 228,
   "metadata": {},
   "outputs": [
    {
     "data": {
      "text/plain": [
       "1.0    42535\n",
       "Name: policy_code, dtype: int64"
      ]
     },
     "execution_count": 228,
     "metadata": {},
     "output_type": "execute_result"
    }
   ],
   "source": [
    "pd.value_counts(df['policy_code'])"
   ]
  },
  {
   "cell_type": "markdown",
   "metadata": {},
   "source": [
    "Not a good variable. Only 1 value. Let's drop it."
   ]
  },
  {
   "cell_type": "code",
   "execution_count": 229,
   "metadata": {},
   "outputs": [],
   "source": [
    "df.drop(columns='policy_code', inplace=True)"
   ]
  },
  {
   "cell_type": "markdown",
   "metadata": {},
   "source": [
    "## Transforming & Inspecting Date Features <a class=\"anchor\" id=\"section_1_5\"></a>"
   ]
  },
  {
   "cell_type": "code",
   "execution_count": 239,
   "metadata": {},
   "outputs": [
    {
     "name": "stdout",
     "output_type": "stream",
     "text": [
      "<class 'pandas.core.frame.DataFrame'>\n",
      "Int64Index: 42535 entries, 0 to 42534\n",
      "Data columns (total 4 columns):\n",
      " #   Column              Non-Null Count  Dtype         \n",
      "---  ------              --------------  -----         \n",
      " 0   issue_d             42535 non-null  datetime64[ns]\n",
      " 1   earliest_cr_line    42506 non-null  datetime64[ns]\n",
      " 2   last_pymnt_d        42452 non-null  datetime64[ns]\n",
      " 3   last_credit_pull_d  42531 non-null  datetime64[ns]\n",
      "dtypes: datetime64[ns](4)\n",
      "memory usage: 1.6 MB\n"
     ]
    }
   ],
   "source": [
    "df.select_dtypes(include=['datetime']).info()"
   ]
  },
  {
   "cell_type": "markdown",
   "metadata": {},
   "source": [
    "Usually, date features would be manipulated to calculate time duration.\n",
    "\n",
    "However, this only works if there is a consistent analysis date as reference for each date field. Since there is no information about which date to use as reference, we will simply drop the date columns."
   ]
  },
  {
   "cell_type": "code",
   "execution_count": 240,
   "metadata": {},
   "outputs": [],
   "source": [
    "df.drop(columns = ['issue_d','earliest_cr_line','last_pymnt_d','last_credit_pull_d'], inplace=True)"
   ]
  },
  {
   "cell_type": "markdown",
   "metadata": {},
   "source": [
    "## Missing Values <a class=\"anchor\" id=\"section_1_6\"></a>\n",
    "\n",
    "Now let's see how to deal with the remaining variables with missing values. What replacement values make sense for these fields? Or, more importantly, what are sensible assumptions for each field whenever they have missing values?"
   ]
  },
  {
   "cell_type": "code",
   "execution_count": 241,
   "metadata": {},
   "outputs": [
    {
     "data": {
      "text/plain": [
       "['annual_inc',\n",
       " 'delinq_2yrs',\n",
       " 'inq_last_6mths',\n",
       " 'open_acc',\n",
       " 'pub_rec',\n",
       " 'revol_util',\n",
       " 'total_acc',\n",
       " 'collections_12_mths_ex_med',\n",
       " 'acc_now_delinq',\n",
       " 'chargeoff_within_12_mths',\n",
       " 'delinq_amnt',\n",
       " 'pub_rec_bankruptcies',\n",
       " 'tax_liens']"
      ]
     },
     "execution_count": 241,
     "metadata": {},
     "output_type": "execute_result"
    }
   ],
   "source": [
    "#The columns with missing values\n",
    "missing_cols = df.columns[df.isnull().any()].to_list()\n",
    "missing_cols"
   ]
  },
  {
   "cell_type": "code",
   "execution_count": 242,
   "metadata": {},
   "outputs": [
    {
     "name": "stdout",
     "output_type": "stream",
     "text": [
      "4 -------- annual_inc\n",
      "29 -------- delinq_2yrs\n",
      "29 -------- inq_last_6mths\n",
      "29 -------- open_acc\n",
      "29 -------- pub_rec\n",
      "90 -------- revol_util\n",
      "29 -------- total_acc\n",
      "145 -------- collections_12_mths_ex_med\n",
      "29 -------- acc_now_delinq\n",
      "145 -------- chargeoff_within_12_mths\n",
      "29 -------- delinq_amnt\n",
      "1365 -------- pub_rec_bankruptcies\n",
      "105 -------- tax_liens\n"
     ]
    }
   ],
   "source": [
    "#How many missing values do these columns have?\n",
    "for col in missing_cols:\n",
    "    print('{} -------- {}'.format(df[col].isna().sum(), col))"
   ]
  },
  {
   "cell_type": "markdown",
   "metadata": {},
   "source": [
    "### Missing Values -> 0 <a class=\"anchor\" id=\"section_1_6_1\"></a>\n",
    "\n",
    "For these fields, it makes sense to assume that a missing value means an absence, or a value of 0:\n",
    "\n",
    "* delinq_2yrs (may drop or change to binary, since delinquency is captured by 'acc_now_delinq')\n",
    "* inq_last_6mths\n",
    "* open_acc\n",
    "* pub_rec\n",
    "* total_acc\n",
    "* collections_12_mths_ex_med\n",
    "* acc_now_delinq (may change to binary, depending on distribution)\n",
    "* chargeoff_within_12_mths\n",
    "* delinq_amnt (actually a redundant variable, since 'acc_now_delinq' and 'delinq_2yrs' captures delinquency)\n",
    "* pub_rec_bankruptcies\n",
    "* tax_liens\n",
    "\n",
    "The first step will be to replace all NaNs with 0s for these fields. After that"
   ]
  },
  {
   "cell_type": "code",
   "execution_count": 251,
   "metadata": {},
   "outputs": [],
   "source": [
    "missing_cols_1 = ['delinq_2yrs', 'inq_last_6mths', 'open_acc', 'pub_rec', 'total_acc',\n",
    "                 'collections_12_mths_ex_med', 'acc_now_delinq', 'chargeoff_within_12_mths',\n",
    "                 'delinq_amnt', 'pub_rec_bankruptcies', 'tax_liens']\n",
    "\n",
    "df[missing_cols_1] = df[missing_cols_1].fillna(0)"
   ]
  },
  {
   "cell_type": "code",
   "execution_count": 261,
   "metadata": {},
   "outputs": [
    {
     "data": {
      "text/plain": [
       "0.0    42531\n",
       "1.0        4\n",
       "Name: acc_now_delinq, dtype: int64"
      ]
     },
     "execution_count": 261,
     "metadata": {},
     "output_type": "execute_result"
    }
   ],
   "source": [
    "pd.value_counts(df['acc_now_delinq'])"
   ]
  },
  {
   "cell_type": "code",
   "execution_count": 263,
   "metadata": {},
   "outputs": [
    {
     "data": {
      "text/plain": [
       "0.0       42533\n",
       "6053.0        1\n",
       "27.0          1\n",
       "Name: delinq_amnt, dtype: int64"
      ]
     },
     "execution_count": 263,
     "metadata": {},
     "output_type": "execute_result"
    }
   ],
   "source": [
    "pd.value_counts(df['delinq_amnt'])"
   ]
  },
  {
   "cell_type": "code",
   "execution_count": 276,
   "metadata": {},
   "outputs": [
    {
     "data": {
      "text/plain": [
       "0.0     37800\n",
       "1.0      3595\n",
       "2.0       771\n",
       "3.0       244\n",
       "4.0        72\n",
       "5.0        27\n",
       "6.0        13\n",
       "7.0         6\n",
       "8.0         3\n",
       "11.0        2\n",
       "13.0        1\n",
       "9.0         1\n",
       "Name: delinq_2yrs, dtype: int64"
      ]
     },
     "execution_count": 276,
     "metadata": {},
     "output_type": "execute_result"
    }
   ],
   "source": [
    "pd.value_counts(df['delinq_2yrs'])"
   ]
  },
  {
   "cell_type": "markdown",
   "metadata": {},
   "source": [
    "The 3 delinquency features with parentheticals above had to be inspected separately. It seems that only 1 of them contains useful information: 'delinq_2yrs', which tells us how many delinquencies a person has in the past 2 years.\n",
    "\n",
    "The other 2 delinquency features have the same value for all except a (single-digit) handful of rows. So let's drop those 2"
   ]
  },
  {
   "cell_type": "code",
   "execution_count": 277,
   "metadata": {},
   "outputs": [],
   "source": [
    "df.drop(columns=['acc_now_delinq', 'delinq_amnt'], inplace=True)"
   ]
  },
  {
   "cell_type": "code",
   "execution_count": 275,
   "metadata": {},
   "outputs": [
    {
     "data": {
      "image/png": "[encoded data removed]",
      "text/plain": [
       "<Figure size 432x288 with 1 Axes>"
      ]
     },
     "metadata": {
      "needs_background": "light"
     },
     "output_type": "display_data"
    }
   ],
   "source": [
    "p = sns.violinplot(x='target', y='delinq_2yrs', data=df)"
   ]
  },
  {
   "cell_type": "code",
   "execution_count": 267,
   "metadata": {},
   "outputs": [
    {
     "data": {
      "text/plain": [
       "0.0     37800\n",
       "1.0      3595\n",
       "2.0       771\n",
       "3.0       244\n",
       "4.0        72\n",
       "5.0        27\n",
       "6.0        13\n",
       "7.0         6\n",
       "8.0         3\n",
       "11.0        2\n",
       "13.0        1\n",
       "9.0         1\n",
       "Name: delinq_2yrs, dtype: int64"
      ]
     },
     "execution_count": 267,
     "metadata": {},
     "output_type": "execute_result"
    }
   ],
   "source": [
    "pd.value_counts(df['delinq_2yrs'])"
   ]
  },
  {
   "cell_type": "markdown",
   "metadata": {},
   "source": [
    "### Missing Vales -> mode <a class=\"anchor\" id=\"section_1_6_2\"></a>\n",
    "\n",
    "For the remaining 2 features with missing values ('annual_inc', 'revol_util'), it doesn't make sense to replace the missing values with 0.\n",
    "\n",
    "'annual_inc' only has 4 missing values, so I feel comfortable replacing it with the most commonly occuring value.\n",
    "\n",
    "'revol_util' needs a bit more inspection, since it has 90 missing values. Before I replace missing values with its mode or mean or median, let's check to see if the missing values aren't exclusively in the positive target class. Are the missing values systematically appearing in the target = 1 class?"
   ]
  },
  {
   "cell_type": "code",
   "execution_count": 278,
   "metadata": {},
   "outputs": [],
   "source": [
    "df['annual_inc']=df['annual_inc'].replace(np.nan,df['annual_inc'].mode()[0])"
   ]
  },
  {
   "cell_type": "code",
   "execution_count": 285,
   "metadata": {},
   "outputs": [
    {
     "data": {
      "text/plain": [
       "56"
      ]
     },
     "execution_count": 285,
     "metadata": {},
     "output_type": "execute_result"
    }
   ],
   "source": [
    "len(df[(df['target'] == 1) & (np.isnan(df['revol_util']))])"
   ]
  },
  {
   "cell_type": "markdown",
   "metadata": {},
   "source": [
    "'revol_util' is not completely in the positive class, so we can impute missing values. Because of the distribution of its values, let's use mode or median (both will achieve the same outcome)"
   ]
  },
  {
   "cell_type": "code",
   "execution_count": 286,
   "metadata": {},
   "outputs": [],
   "source": [
    "df['revol_util']=df['revol_util'].replace(np.nan,df['revol_util'].mode()[0])"
   ]
  },
  {
   "cell_type": "markdown",
   "metadata": {},
   "source": [
    "## Encoding Categorical Variables <a class=\"anchor\" id=\"section_1_7\"></a>\n",
    "\n",
    "The last thing we want to do before building our XGBoost model is to dummy code our remaining categorical variables."
   ]
  },
  {
   "cell_type": "code",
   "execution_count": 301,
   "metadata": {},
   "outputs": [
    {
     "data": {
      "text/plain": [
       "['home_ownership', 'verification_status', 'purpose', 'addr_state']"
      ]
     },
     "execution_count": 301,
     "metadata": {},
     "output_type": "execute_result"
    }
   ],
   "source": [
    "#Get the list of categorical vars\n",
    "cat_cols = df.select_dtypes(include=['object']).columns.to_list()\n",
    "cat_cols"
   ]
  },
  {
   "cell_type": "code",
   "execution_count": 400,
   "metadata": {},
   "outputs": [],
   "source": [
    "#Dummy code\n",
    "df_final= pd.get_dummies(df, columns=cat_cols, prefix=cat_cols)"
   ]
  },
  {
   "cell_type": "markdown",
   "metadata": {},
   "source": [
    "# Modeling <a class=\"anchor\" id=\"modeling\"></a>"
   ]
  },
  {
   "cell_type": "code",
   "execution_count": 411,
   "metadata": {},
   "outputs": [],
   "source": [
    "import xgboost\n",
    "import random\n",
    "from sklearn.model_selection import train_test_split, KFold, cross_val_score\n",
    "from sklearn.metrics import confusion_matrix, precision_recall_curve, auc,roc_auc_score,roc_curve, recall_score,classification_report,accuracy_score\n",
    "from sklearn.feature_selection import SelectFromModel"
   ]
  },
  {
   "cell_type": "markdown",
   "metadata": {},
   "source": [
    "## Train/Test Splits <a class=\"anchor\" id=\"section_2_1\"></a>"
   ]
  },
  {
   "cell_type": "code",
   "execution_count": 401,
   "metadata": {},
   "outputs": [],
   "source": [
    "X = df_final.loc[:, df_final.columns != 'target']\n",
    "y = df_final.loc[:, df_final.columns == 'target']\n",
    "\n",
    "X_train, X_test, y_train, y_test = train_test_split(X, y, test_size=0.2, random_state=7)"
   ]
  },
  {
   "cell_type": "markdown",
   "metadata": {},
   "source": [
    "## Feature Selection -- using Feature Importance, Trial 1 <a class=\"anchor\" id=\"section_2_2\"></a>\n",
    "\n",
    "Even though XGBoost can handle large amounts of features, does including all of them lead to a more accurate model?"
   ]
  },
  {
   "cell_type": "markdown",
   "metadata": {},
   "source": [
    "Let's get a baseline accuracy using all features"
   ]
  },
  {
   "cell_type": "code",
   "execution_count": 402,
   "metadata": {},
   "outputs": [
    {
     "name": "stdout",
     "output_type": "stream",
     "text": [
      "Accuracy: 92.81%\n"
     ]
    }
   ],
   "source": [
    "random.seed(7)\n",
    "\n",
    "# Handles class imbalance, to be used for 'scale_pos_weight' arg when building XGBClassifier()\n",
    "class_weight = len(df_final[df_final.target == 0])/len(df_final[df_final.target == 1])\n",
    "\n",
    "model = xgboost.XGBClassifier(scale_pos_weight = class_weight)\n",
    "model.fit(X_train, y_train)\n",
    "predictions = model.predict(X_test)\n",
    "accuracy = accuracy_score(y_test, predictions)\n",
    "print(\"Accuracy: %.2f%%\" % (accuracy * 100.0))"
   ]
  },
  {
   "cell_type": "markdown",
   "metadata": {},
   "source": [
    "Really good! But let's check the feature importances"
   ]
  },
  {
   "cell_type": "code",
   "execution_count": 403,
   "metadata": {},
   "outputs": [
    {
     "data": {
      "text/plain": [
       "29"
      ]
     },
     "execution_count": 403,
     "metadata": {},
     "output_type": "execute_result"
    }
   ],
   "source": [
    "#How many features have an importance of 0?\n",
    "\n",
    "len(model.feature_importances_[model.feature_importances_ == 0])"
   ]
  },
  {
   "cell_type": "markdown",
   "metadata": {},
   "source": [
    "There are 29 features with a feature importance of 0 in this run of XGBoost."
   ]
  },
  {
   "cell_type": "code",
   "execution_count": 404,
   "metadata": {},
   "outputs": [
    {
     "data": {
      "text/plain": [
       "Index(['purpose_debt_consolidation', 'tax_liens', 'home_ownership_MORTGAGE',\n",
       "       'purpose_major_purchase', 'purpose_other', 'addr_state_NJ',\n",
       "       'addr_state_WI', 'addr_state_AR', 'addr_state_CA',\n",
       "       'chargeoff_within_12_mths', 'addr_state_DC', 'addr_state_HI',\n",
       "       'addr_state_IA', 'addr_state_IL', 'addr_state_KY', 'addr_state_MD',\n",
       "       'addr_state_MN', 'addr_state_MO', 'addr_state_MS', 'addr_state_GA',\n",
       "       'collections_12_mths_ex_med', 'addr_state_NC', 'addr_state_OK',\n",
       "       'addr_state_VA', 'addr_state_SD', 'out_prncp_inv', 'addr_state_PA',\n",
       "       'addr_state_SC', 'out_prncp'],\n",
       "      dtype='object')"
      ]
     },
     "execution_count": 404,
     "metadata": {},
     "output_type": "execute_result"
    }
   ],
   "source": [
    "sorted_idx = model.feature_importances_.argsort() #get indices of feature importances, sorted in ascending order\n",
    "df_final.columns[sorted_idx][:29] #print the features that have 0 importance (there are 37 of them)"
   ]
  },
  {
   "cell_type": "markdown",
   "metadata": {},
   "source": [
    "It seems like a lot of the non-important features pertain to the different states.\n",
    "\n",
    "What are the MOST important features?"
   ]
  },
  {
   "cell_type": "code",
   "execution_count": 423,
   "metadata": {
    "scrolled": true
   },
   "outputs": [
    {
     "data": {
      "text/plain": [
       "Text(0.5, 0, 'Xgboost Feature Importance')"
      ]
     },
     "execution_count": 423,
     "metadata": {},
     "output_type": "execute_result"
    },
    {
     "data": {
      "image/png": "[encoded data removed]",
      "text/plain": [
       "<Figure size 432x288 with 1 Axes>"
      ]
     },
     "metadata": {
      "needs_background": "light"
     },
     "output_type": "display_data"
    }
   ],
   "source": [
    "#Plotting the 15 most important features from XGB model\n",
    "plt.barh(df_final.columns[sorted_idx][-15:], model.feature_importances_[sorted_idx][-15:])\n",
    "plt.xlabel(\"Xgboost Feature Importance\")"
   ]
  },
  {
   "cell_type": "markdown",
   "metadata": {},
   "source": [
    "Let's put this thought to the test: do we really need all 100 features to get the best model?\n",
    "\n",
    "We'll do this by taking all unique the feature importance values, and using 'SelectFromModel' with each threshold being each unique feature importance value, and recording which features (and how many) correspond to the one with the highest accuracy and ROC AUC.\n",
    "\n",
    "**Note: we use Accuracy and ROC AUC as metrics to compare the different XGBoost models, simply due to lack of domain knowledge. Class imbalance is taken care of using the 'scale_pos_weight' parameter, with the class weights calculated as # negative / # positive.**\n",
    "\n",
    "**Ideally, we would use a GridSearchCV to iterate through different class weights, but time and PC constraints limit this. For now, let's just go with the recommended # negative / # positive weights, which gives the ratio of Negative-to-Positive class members (roughly 4:1)**\n",
    "\n",
    "**While it is very important to correctly flag the positive class, and while there are costs for False Negatives, I will make the assumption that False Positives are also somewhat costly, since I imagine that an overly-stringent system of loan approvals will deter potential applicants from applying and thus slow down revenue.**"
   ]
  },
  {
   "cell_type": "code",
   "execution_count": 429,
   "metadata": {},
   "outputs": [
    {
     "data": {
      "text/plain": [
       "4.052262739042642"
      ]
     },
     "execution_count": 429,
     "metadata": {},
     "output_type": "execute_result"
    }
   ],
   "source": [
    "class_weight"
   ]
  },
  {
   "cell_type": "code",
   "execution_count": 415,
   "metadata": {},
   "outputs": [],
   "source": [
    "#Record results\n",
    "thresholds = np.unique(np.sort(model.feature_importances_))\n",
    "accuracies = []\n",
    "aucs = []\n",
    "fprs = None\n",
    "tprs = None\n",
    "num_features = []\n",
    "best_accuracy = 0\n",
    "best_auc = 0\n",
    "best_num_features_acc = 0\n",
    "best_num_features_auc = 0"
   ]
  },
  {
   "cell_type": "code",
   "execution_count": 372,
   "metadata": {},
   "outputs": [],
   "source": [
    "import warnings\n",
    "warnings.filterwarnings('ignore')"
   ]
  },
  {
   "cell_type": "code",
   "execution_count": 416,
   "metadata": {},
   "outputs": [
    {
     "name": "stdout",
     "output_type": "stream",
     "text": [
      "Thresh=0.000, n=100, Accuracy: 92.81%\n",
      "Thresh=0.001, n=71, Accuracy: 92.81%\n",
      "Thresh=0.002, n=70, Accuracy: 92.74%\n",
      "Thresh=0.003, n=69, Accuracy: 92.56%\n",
      "Thresh=0.004, n=68, Accuracy: 92.79%\n",
      "Thresh=0.004, n=67, Accuracy: 92.95%\n",
      "Thresh=0.004, n=66, Accuracy: 92.65%\n",
      "Thresh=0.004, n=65, Accuracy: 92.82%\n",
      "Thresh=0.005, n=64, Accuracy: 92.81%\n",
      "Thresh=0.005, n=63, Accuracy: 92.49%\n",
      "Thresh=0.005, n=62, Accuracy: 92.74%\n",
      "Thresh=0.005, n=61, Accuracy: 92.48%\n",
      "Thresh=0.005, n=60, Accuracy: 92.68%\n",
      "Thresh=0.005, n=59, Accuracy: 92.56%\n",
      "Thresh=0.005, n=58, Accuracy: 93.03%\n",
      "Thresh=0.005, n=57, Accuracy: 92.79%\n",
      "Thresh=0.005, n=56, Accuracy: 92.88%\n",
      "Thresh=0.005, n=55, Accuracy: 92.94%\n",
      "Thresh=0.006, n=54, Accuracy: 92.89%\n",
      "Thresh=0.006, n=53, Accuracy: 92.76%\n",
      "Thresh=0.006, n=52, Accuracy: 92.78%\n",
      "Thresh=0.006, n=51, Accuracy: 92.49%\n",
      "Thresh=0.006, n=50, Accuracy: 92.62%\n",
      "Thresh=0.006, n=49, Accuracy: 92.74%\n",
      "Thresh=0.006, n=48, Accuracy: 92.77%\n",
      "Thresh=0.006, n=47, Accuracy: 92.76%\n",
      "Thresh=0.006, n=46, Accuracy: 92.96%\n",
      "Thresh=0.007, n=45, Accuracy: 92.65%\n",
      "Thresh=0.007, n=44, Accuracy: 92.64%\n",
      "Thresh=0.007, n=43, Accuracy: 92.64%\n",
      "Thresh=0.007, n=42, Accuracy: 92.75%\n",
      "Thresh=0.007, n=41, Accuracy: 92.86%\n",
      "Thresh=0.007, n=40, Accuracy: 92.98%\n",
      "Thresh=0.007, n=39, Accuracy: 92.95%\n",
      "Thresh=0.007, n=38, Accuracy: 92.78%\n",
      "Thresh=0.007, n=37, Accuracy: 93.02%\n",
      "Thresh=0.007, n=36, Accuracy: 93.15%\n",
      "Thresh=0.008, n=35, Accuracy: 92.85%\n",
      "Thresh=0.008, n=34, Accuracy: 93.12%\n",
      "Thresh=0.008, n=33, Accuracy: 92.68%\n",
      "Thresh=0.008, n=32, Accuracy: 92.51%\n",
      "Thresh=0.008, n=31, Accuracy: 92.66%\n",
      "Thresh=0.008, n=30, Accuracy: 92.69%\n",
      "Thresh=0.008, n=29, Accuracy: 92.79%\n",
      "Thresh=0.008, n=28, Accuracy: 92.70%\n",
      "Thresh=0.009, n=27, Accuracy: 92.64%\n",
      "Thresh=0.009, n=26, Accuracy: 92.83%\n",
      "Thresh=0.009, n=25, Accuracy: 92.84%\n",
      "Thresh=0.009, n=24, Accuracy: 92.68%\n",
      "Thresh=0.010, n=23, Accuracy: 92.79%\n",
      "Thresh=0.010, n=22, Accuracy: 93.02%\n",
      "Thresh=0.010, n=21, Accuracy: 92.65%\n",
      "Thresh=0.010, n=20, Accuracy: 92.88%\n",
      "Thresh=0.011, n=19, Accuracy: 92.91%\n",
      "Thresh=0.011, n=18, Accuracy: 92.79%\n",
      "Thresh=0.011, n=17, Accuracy: 92.79%\n",
      "Thresh=0.011, n=16, Accuracy: 92.75%\n",
      "Thresh=0.011, n=15, Accuracy: 92.71%\n",
      "Thresh=0.015, n=14, Accuracy: 92.64%\n",
      "Thresh=0.016, n=13, Accuracy: 92.83%\n",
      "Thresh=0.017, n=12, Accuracy: 92.59%\n",
      "Thresh=0.017, n=11, Accuracy: 92.75%\n",
      "Thresh=0.019, n=10, Accuracy: 91.88%\n",
      "Thresh=0.026, n=9, Accuracy: 91.78%\n",
      "Thresh=0.030, n=8, Accuracy: 91.05%\n",
      "Thresh=0.038, n=7, Accuracy: 83.53%\n",
      "Thresh=0.045, n=6, Accuracy: 80.35%\n",
      "Thresh=0.048, n=5, Accuracy: 78.36%\n",
      "Thresh=0.059, n=4, Accuracy: 77.20%\n",
      "Thresh=0.059, n=3, Accuracy: 76.62%\n",
      "Thresh=0.065, n=2, Accuracy: 68.97%\n",
      "Thresh=0.157, n=1, Accuracy: 80.08%\n"
     ]
    }
   ],
   "source": [
    "for thresh in thresholds:\n",
    "    # select features using threshold\n",
    "    selection = SelectFromModel(model, threshold=thresh, prefit=True)\n",
    "    select_X_train = selection.transform(X_train)\n",
    "    # train model\n",
    "    selection_model = xgboost.XGBClassifier(scale_pos_weight = class_weight)\n",
    "    selection_model.fit(select_X_train, y_train)\n",
    "    # eval model - accuracy\n",
    "    select_X_test = selection.transform(X_test)\n",
    "    predictions = selection_model.predict(select_X_test)\n",
    "    # eval model - ROC AUC\n",
    "    accuracy = accuracy_score(y_test, predictions)\n",
    "    fpr, tpr, _ = roc_curve(y_test,predictions)\n",
    "    roc_auc = auc(fpr, tpr)\n",
    "    print(\"Thresh=%.3f, n=%d, Accuracy: %.2f%%\" % (thresh, select_X_train.shape[1], accuracy*100.0))\n",
    "    \n",
    "    # Record results for plotting at the end\n",
    "    accuracies.append(accuracy)\n",
    "    aucs.append(roc_auc)\n",
    "    num_features.append(select_X_train.shape[1])\n",
    "    selected_features = selection_model.get_booster().feature_names\n",
    "    \n",
    "    # Record best results for plotting at the end\n",
    "    if accuracy > best_accuracy:\n",
    "        best_accuracy = accuracy\n",
    "        best_num_features_acc = len(selected_features)\n",
    "    if roc_auc > best_auc:\n",
    "        best_auc = roc_auc\n",
    "        best_num_features_auc = len(selected_features)\n",
    "        fprs = fpr\n",
    "        tprs = tpr"
   ]
  },
  {
   "cell_type": "code",
   "execution_count": 417,
   "metadata": {
    "scrolled": true
   },
   "outputs": [
    {
     "data": {
      "text/plain": [
       "Text(0.5, 1.0, 'Num. Features vs. Accuracies')"
      ]
     },
     "execution_count": 417,
     "metadata": {},
     "output_type": "execute_result"
    },
    {
     "data": {
      "image/png": "[encoded data removed]",
      "text/plain": [
       "<Figure size 432x288 with 1 Axes>"
      ]
     },
     "metadata": {
      "needs_background": "light"
     },
     "output_type": "display_data"
    }
   ],
   "source": [
    "sns.lineplot(x=num_features, y=accuracies).set_title('Num. Features vs. Accuracies')"
   ]
  },
  {
   "cell_type": "code",
   "execution_count": 418,
   "metadata": {},
   "outputs": [
    {
     "data": {
      "text/plain": [
       "Text(0.5, 1.0, 'Num. Features vs. ROC AUCs')"
      ]
     },
     "execution_count": 418,
     "metadata": {},
     "output_type": "execute_result"
    },
    {
     "data": {
      "image/png": "[encoded data removed]",
      "text/plain": [
       "<Figure size 432x288 with 1 Axes>"
      ]
     },
     "metadata": {
      "needs_background": "light"
     },
     "output_type": "display_data"
    }
   ],
   "source": [
    "sns.lineplot(x=num_features, y=aucs).set_title('Num. Features vs. ROC AUCs')"
   ]
  },
  {
   "cell_type": "markdown",
   "metadata": {},
   "source": [
    "## Conclusion: all variables are not needed.\n",
    "\n",
    "Both accuracy and ROC AUC taper off when n=10, or when 10 features (added in order of decreasing importance, starting with the most important) are included. Furthermore, by eyeballing the print-out accuracies, it seems that less features even leads to a slightly BETTER performance than the entire feature space."
   ]
  },
  {
   "cell_type": "markdown",
   "metadata": {},
   "source": [
    "## Model Evaluation <a class=\"anchor\" id=\"section_2_3\"></a>\n",
    "\n"
   ]
  },
  {
   "cell_type": "code",
   "execution_count": 419,
   "metadata": {},
   "outputs": [
    {
     "data": {
      "image/png": "[encoded data removed]",
      "text/plain": [
       "<Figure size 432x288 with 1 Axes>"
      ]
     },
     "metadata": {
      "needs_background": "light"
     },
     "output_type": "display_data"
    }
   ],
   "source": [
    "plt.figure()\n",
    "lw=2\n",
    "plt.plot(fprs, tprs, color='red', lw=lw, label='ROC curve (area = %0.2f)' % best_auc)\n",
    "plt.plot([0, 1], [0, 1], color='black', lw=lw, linestyle='--')\n",
    "plt.xlim([0.0, 1.0])\n",
    "plt.ylim([0.0, 1.05])\n",
    "plt.xlabel('False Positive Rate')\n",
    "plt.ylabel('True Positive Rate')\n",
    "plt.title('ROC')\n",
    "plt.legend(loc=\"lower right\")\n",
    "plt.show()"
   ]
  },
  {
   "cell_type": "code",
   "execution_count": 421,
   "metadata": {},
   "outputs": [
    {
     "name": "stdout",
     "output_type": "stream",
     "text": [
      "Best accuracy: 0.9314682026566357\n",
      "Selected Features:36\n"
     ]
    }
   ],
   "source": [
    "print('Best accuracy: {}\\nSelected Features:{}'.format(best_accuracy, best_num_features_acc))"
   ]
  },
  {
   "cell_type": "code",
   "execution_count": 422,
   "metadata": {},
   "outputs": [
    {
     "name": "stdout",
     "output_type": "stream",
     "text": [
      "Best ROC AUC: 0.9041213690440772\n",
      "Selected Features:34\n"
     ]
    }
   ],
   "source": [
    "print('Best ROC AUC: {}\\nSelected Features:{}'.format(best_auc, best_num_features_auc))"
   ]
  },
  {
   "cell_type": "code",
   "execution_count": 435,
   "metadata": {},
   "outputs": [
    {
     "name": "stdout",
     "output_type": "stream",
     "text": [
      "Accuracy of 34-feature model: 0.9312331021511696\n"
     ]
    }
   ],
   "source": [
    "print('Accuracy of 34-feature model: {}'.format(accuracies[-34]))"
   ]
  },
  {
   "cell_type": "code",
   "execution_count": 437,
   "metadata": {},
   "outputs": [
    {
     "name": "stdout",
     "output_type": "stream",
     "text": [
      "AUC of 36-feature model: 0.9031382239598464\n"
     ]
    }
   ],
   "source": [
    "print('AUC of 36-feature model: {}'.format(aucs[-36]))"
   ]
  },
  {
   "cell_type": "code",
   "execution_count": 428,
   "metadata": {},
   "outputs": [
    {
     "data": {
      "text/plain": [
       "['inq_last_6mths',\n",
       " 'last_pymnt_amnt',\n",
       " 'sub_grade',\n",
       " 'debt_settlement_flag',\n",
       " 'term',\n",
       " 'total_rec_late_fee',\n",
       " 'funded_amnt',\n",
       " 'total_rec_int',\n",
       " 'installment',\n",
       " 'loan_amnt',\n",
       " 'int_rate',\n",
       " 'funded_amnt_inv',\n",
       " 'revol_bal',\n",
       " 'addr_state_NE',\n",
       " 'total_acc',\n",
       " 'pub_rec',\n",
       " 'purpose_renewable_energy',\n",
       " 'addr_state_AL',\n",
       " 'annual_inc',\n",
       " 'addr_state_VT',\n",
       " 'purpose_vacation',\n",
       " 'addr_state_OR',\n",
       " 'addr_state_FL',\n",
       " 'home_ownership_NONE',\n",
       " 'home_ownership_RENT',\n",
       " 'addr_state_MA',\n",
       " 'addr_state_WA',\n",
       " 'addr_state_LA',\n",
       " 'purpose_educational',\n",
       " 'revol_util',\n",
       " 'pub_rec_bankruptcies',\n",
       " 'addr_state_OH',\n",
       " 'addr_state_NM',\n",
       " 'purpose_car',\n",
       " 'open_acc',\n",
       " 'addr_state_DE']"
      ]
     },
     "execution_count": 428,
     "metadata": {},
     "output_type": "execute_result"
    }
   ],
   "source": [
    "# So...what ARE these 34/36 variables??\n",
    "# Sorted from most important to least important\n",
    "df_final.columns[sorted_idx][-36:].to_list()[::-1]"
   ]
  },
  {
   "cell_type": "markdown",
   "metadata": {},
   "source": [
    "It looks like the accuracy spikes WAAAY up after adding the 2nd most important feature (**total_rec_prncp**), which is the total received principal payment, to date. This would make sense as to why adding this feature would spike the accuracy way up; loans that are unable to be paid off will OF COURSE have lower total payments.\n",
    "\n",
    "Looking at the 34-36 most important features, the resulting features seem to make sense.\n",
    "\n",
    "Even though the 34-feature model resulted in the highest AUC ROC, and the 36-feature model resulted in the highest accuracy, the differences are very small, and the differences are unlikely to make a real-world impact. In that case, I would stick to the 34-feature model due to model simplicity."
   ]
  },
  {
   "cell_type": "code",
   "execution_count": 434,
   "metadata": {},
   "outputs": [
    {
     "data": {
      "text/plain": [
       "Text(0.5, 0, 'Xgboost Feature Importance - Top Variables from Best Model')"
      ]
     },
     "execution_count": 434,
     "metadata": {},
     "output_type": "execute_result"
    },
    {
     "data": {
      "image/png": "[encoded data removed]",
      "text/plain": [
       "<Figure size 432x288 with 1 Axes>"
      ]
     },
     "metadata": {
      "needs_background": "light"
     },
     "output_type": "display_data"
    }
   ],
   "source": [
    "plt.barh(df_final.columns[sorted_idx][-36:], model.feature_importances_[sorted_idx][-36:])\n",
    "plt.xlabel(\"Xgboost Feature Importance - Top Variables from Best Model\")"
   ]
  },
  {
   "cell_type": "markdown",
   "metadata": {},
   "source": [
    "# Summary <a class=\"anchor\" id=\"summary\"></a>\n",
    "\n",
    "After extensive inspection, EDA, transformation, and reduction of our data into a model-friendly format (taking care of missing values, encoding categorical variables, removing features that leak), we have found a reduced model that gives the best accuracy and the best ROC AUC.\n",
    "\n",
    "The final XGBoost model and its performance are summarized below:\n",
    "\n",
    "* Features: 34\n",
    "* Final Accuracy: 0.931\n",
    "* Final ROC AUC: 0.903"
   ]
  }
 ],
 "metadata": {
  "kernelspec": {
   "display_name": "Python 3",
   "language": "python",
   "name": "python3"
  },
  "language_info": {
   "codemirror_mode": {
    "name": "ipython",
    "version": 3
   },
   "file_extension": ".py",
   "mimetype": "text/x-python",
   "name": "python",
   "nbconvert_exporter": "python",
   "pygments_lexer": "ipython3",
   "version": "3.8.3"
  }
 },
 "nbformat": 4,
 "nbformat_minor": 4
}
